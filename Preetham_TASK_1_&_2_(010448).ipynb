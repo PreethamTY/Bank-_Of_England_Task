{
  "nbformat": 4,
  "nbformat_minor": 0,
  "metadata": {
    "colab": {
      "provenance": []
    },
    "kernelspec": {
      "name": "python3",
      "display_name": "Python 3"
    },
    "language_info": {
      "name": "python"
    }
  },
  "cells": [
    {
      "cell_type": "code",
      "execution_count": 447,
      "metadata": {
        "id": "21dq5taLJlDj"
      },
      "outputs": [],
      "source": [
        "# Import necessary libraries\n",
        "import pandas as pd\n",
        "import numpy as np\n",
        "import matplotlib.pyplot as plt\n",
        "import seaborn as sns"
      ]
    },
    {
      "cell_type": "code",
      "source": [
        "# Set the aesthetic style of the plots\n",
        "sns.set_style(\"whitegrid\")"
      ],
      "metadata": {
        "id": "AZg1oXDZKXji"
      },
      "execution_count": 448,
      "outputs": []
    },
    {
      "cell_type": "code",
      "source": [
        "from google.colab import drive\n",
        "drive.mount('/content/drive')"
      ],
      "metadata": {
        "colab": {
          "base_uri": "https://localhost:8080/"
        },
        "id": "DPa8PIIEJxRY",
        "outputId": "07953fe5-43e6-4c5c-c5d6-365347965096"
      },
      "execution_count": 449,
      "outputs": [
        {
          "output_type": "stream",
          "name": "stdout",
          "text": [
            "Drive already mounted at /content/drive; to attempt to forcibly remount, call drive.mount(\"/content/drive\", force_remount=True).\n"
          ]
        }
      ]
    },
    {
      "cell_type": "code",
      "source": [
        "# Load the datasets from the file paths\n",
        "general_data = pd.read_csv('/content/drive/MyDrive/BOE/BOE_genaral_data.csv', header=[0, 1])\n",
        "underwriting_data = pd.read_csv('/content/drive/MyDrive/BOE/BOE_Underwriting_data.csv', header=[0, 1])\n"
      ],
      "metadata": {
        "id": "CtWN8aQqfKGn"
      },
      "execution_count": 450,
      "outputs": []
    },
    {
      "cell_type": "code",
      "source": [
        "# Define a function to clean and prepare dataset\n",
        "# Process to combine the column names with the corresponding years and replace spaces with underscores\n",
        "def process_column_names(data):\n",
        "    # Combine the column names with the corresponding years and remove extra spaces\n",
        "    data.columns = [f\"{col[0].strip()}_{col[1].strip()}\" for col in data.columns]\n",
        "    # Replace any sequence of spaces or non-breaking spaces with an underscore\n",
        "    data.columns = data.columns.str.replace(r'\\s+', '_', regex=True)\n",
        "    data.columns = data.columns.str.replace(u'\\xa0', '_', regex=False)\n",
        "    # Set the first column as the index, which contains the firm identifiers\n",
        "    data = data.set_index(data.columns[0])\n",
        "    # Convert all columns to numeric, coerce errors will set non-convertible values to NaN\n",
        "    data = data.apply(pd.to_numeric, errors='coerce')\n",
        "    return data"
      ],
      "metadata": {
        "id": "D4OQDPMLznkO"
      },
      "execution_count": 451,
      "outputs": []
    },
    {
      "cell_type": "code",
      "source": [
        "# Apply the process to the loaded data\n",
        "general_data = process_column_names(general_data)\n",
        "underwriting_data = process_column_names(underwriting_data)"
      ],
      "metadata": {
        "id": "QCMEJJbf_2V9"
      },
      "execution_count": 452,
      "outputs": []
    },
    {
      "cell_type": "code",
      "source": [
        "general_data.head()"
      ],
      "metadata": {
        "colab": {
          "base_uri": "https://localhost:8080/",
          "height": 287
        },
        "id": "xojFXoixg6SU",
        "outputId": "eac21c10-2102-4b83-90b7-5e301b5d6f17"
      },
      "execution_count": 453,
      "outputs": [
        {
          "output_type": "execute_result",
          "data": {
            "text/plain": [
              "                      NWP_(£m)_2016YE  NWP_(£m)_2017YE  NWP_(£m)_2018YE  \\\n",
              "Unnamed:_0_level_0_x                                                      \n",
              "Firm 1                      -17754.10             0.00             0.00   \n",
              "Firm 2                           9.24             0.10            40.81   \n",
              "Firm 3                           0.00             0.81            36.62   \n",
              "Firm 4                       19677.45         41072.82         20885.51   \n",
              "Firm 5                         128.81            10.41            79.58   \n",
              "\n",
              "                      NWP_(£m)_2019YE  NWP_(£m)_2020YE  SCR_(£m)_2016YE  \\\n",
              "Unnamed:_0_level_0_x                                                      \n",
              "Firm 1                           0.00             0.00          2021.32   \n",
              "Firm 2                          35.64            13.63            16.46   \n",
              "Firm 3                          86.63            54.74           486.89   \n",
              "Firm 4                       14719.67         49204.47         15975.65   \n",
              "Firm 5                          79.42            61.73            32.74   \n",
              "\n",
              "                      SCR_(£m)_2017YE  SCR_(£m)_2018YE  SCR_(£m)_2019YE  \\\n",
              "Unnamed:_0_level_0_x                                                      \n",
              "Firm 1                           0.00             0.00             0.00   \n",
              "Firm 2                          15.01            14.23            15.04   \n",
              "Firm 3                         495.79           626.61            81.24   \n",
              "Firm 4                       15367.89         10797.12         22788.36   \n",
              "Firm 5                          43.95            31.62            30.12   \n",
              "\n",
              "                      SCR_(£m)_2020YE  ...  Total_liabilities_(£m)_2016YE  \\\n",
              "Unnamed:_0_level_0_x                   ...                                  \n",
              "Firm 1                           0.00  ...                       40171.68   \n",
              "Firm 2                           1.59  ...                           7.97   \n",
              "Firm 3                         362.09  ...                          68.00   \n",
              "Firm 4                       16090.31  ...                       48416.74   \n",
              "Firm 5                          91.52  ...                         267.46   \n",
              "\n",
              "                      Total_liabilities_(£m)_2017YE  \\\n",
              "Unnamed:_0_level_0_x                                  \n",
              "Firm 1                                         0.00   \n",
              "Firm 2                                        12.80   \n",
              "Firm 3                                      1592.31   \n",
              "Firm 4                                     30870.23   \n",
              "Firm 5                                        22.98   \n",
              "\n",
              "                      Total_liabilities_(£m)_2018YE  \\\n",
              "Unnamed:_0_level_0_x                                  \n",
              "Firm 1                                         0.00   \n",
              "Firm 2                                        11.33   \n",
              "Firm 3                                      1005.33   \n",
              "Firm 4                                     68145.07   \n",
              "Firm 5                                        69.34   \n",
              "\n",
              "                      Total_liabilities_(£m)_2019YE  \\\n",
              "Unnamed:_0_level_0_x                                  \n",
              "Firm 1                                         0.00   \n",
              "Firm 2                                         6.73   \n",
              "Firm 3                                       593.69   \n",
              "Firm 4                                     92600.14   \n",
              "Firm 5                                        16.84   \n",
              "\n",
              "                      Total_liabilities_(£m)_2020YE  \\\n",
              "Unnamed:_0_level_0_x                                  \n",
              "Firm 1                                         0.00   \n",
              "Firm 2                                        16.17   \n",
              "Firm 3                                       374.71   \n",
              "Firm 4                                     92273.05   \n",
              "Firm 5                                       106.18   \n",
              "\n",
              "                      Excess_of_assets_over_liabilities_(£m)_[=_equity]_2016YE  \\\n",
              "Unnamed:_0_level_0_x                                                             \n",
              "Firm 1                                                          1243.92          \n",
              "Firm 2                                                             8.76          \n",
              "Firm 3                                                           210.92          \n",
              "Firm 4                                                         24862.17          \n",
              "Firm 5                                                           262.68          \n",
              "\n",
              "                      Excess_of_assets_over_liabilities_(£m)_[=_equity]_2017YE  \\\n",
              "Unnamed:_0_level_0_x                                                             \n",
              "Firm 1                                                             4.40          \n",
              "Firm 2                                                            48.43          \n",
              "Firm 3                                                           100.78          \n",
              "Firm 4                                                          7191.96          \n",
              "Firm 5                                                             7.59          \n",
              "\n",
              "                      Excess_of_assets_over_liabilities_(£m)_[=_equity]_2018YE  \\\n",
              "Unnamed:_0_level_0_x                                                             \n",
              "Firm 1                                                             0.00          \n",
              "Firm 2                                                             0.07          \n",
              "Firm 3                                                            87.59          \n",
              "Firm 4                                                         12910.35          \n",
              "Firm 5                                                            96.95          \n",
              "\n",
              "                      Excess_of_assets_over_liabilities_(£m)_[=_equity]_2019YE  \\\n",
              "Unnamed:_0_level_0_x                                                             \n",
              "Firm 1                                                             0.00          \n",
              "Firm 2                                                            43.37          \n",
              "Firm 3                                                           922.49          \n",
              "Firm 4                                                         12586.97          \n",
              "Firm 5                                                           104.61          \n",
              "\n",
              "                      Excess_of_assets_over_liabilities_(£m)_[=_equity]_2020YE  \n",
              "Unnamed:_0_level_0_x                                                            \n",
              "Firm 1                                                             0.00         \n",
              "Firm 2                                                            12.46         \n",
              "Firm 3                                                           412.47         \n",
              "Firm 4                                                         24127.84         \n",
              "Firm 5                                                           103.18         \n",
              "\n",
              "[5 rows x 40 columns]"
            ],
            "text/html": [
              "\n",
              "  <div id=\"df-3e1e74cd-25ed-4d8b-8ac2-7f4bca307e73\" class=\"colab-df-container\">\n",
              "    <div>\n",
              "<style scoped>\n",
              "    .dataframe tbody tr th:only-of-type {\n",
              "        vertical-align: middle;\n",
              "    }\n",
              "\n",
              "    .dataframe tbody tr th {\n",
              "        vertical-align: top;\n",
              "    }\n",
              "\n",
              "    .dataframe thead th {\n",
              "        text-align: right;\n",
              "    }\n",
              "</style>\n",
              "<table border=\"1\" class=\"dataframe\">\n",
              "  <thead>\n",
              "    <tr style=\"text-align: right;\">\n",
              "      <th></th>\n",
              "      <th>NWP_(£m)_2016YE</th>\n",
              "      <th>NWP_(£m)_2017YE</th>\n",
              "      <th>NWP_(£m)_2018YE</th>\n",
              "      <th>NWP_(£m)_2019YE</th>\n",
              "      <th>NWP_(£m)_2020YE</th>\n",
              "      <th>SCR_(£m)_2016YE</th>\n",
              "      <th>SCR_(£m)_2017YE</th>\n",
              "      <th>SCR_(£m)_2018YE</th>\n",
              "      <th>SCR_(£m)_2019YE</th>\n",
              "      <th>SCR_(£m)_2020YE</th>\n",
              "      <th>...</th>\n",
              "      <th>Total_liabilities_(£m)_2016YE</th>\n",
              "      <th>Total_liabilities_(£m)_2017YE</th>\n",
              "      <th>Total_liabilities_(£m)_2018YE</th>\n",
              "      <th>Total_liabilities_(£m)_2019YE</th>\n",
              "      <th>Total_liabilities_(£m)_2020YE</th>\n",
              "      <th>Excess_of_assets_over_liabilities_(£m)_[=_equity]_2016YE</th>\n",
              "      <th>Excess_of_assets_over_liabilities_(£m)_[=_equity]_2017YE</th>\n",
              "      <th>Excess_of_assets_over_liabilities_(£m)_[=_equity]_2018YE</th>\n",
              "      <th>Excess_of_assets_over_liabilities_(£m)_[=_equity]_2019YE</th>\n",
              "      <th>Excess_of_assets_over_liabilities_(£m)_[=_equity]_2020YE</th>\n",
              "    </tr>\n",
              "    <tr>\n",
              "      <th>Unnamed:_0_level_0_x</th>\n",
              "      <th></th>\n",
              "      <th></th>\n",
              "      <th></th>\n",
              "      <th></th>\n",
              "      <th></th>\n",
              "      <th></th>\n",
              "      <th></th>\n",
              "      <th></th>\n",
              "      <th></th>\n",
              "      <th></th>\n",
              "      <th></th>\n",
              "      <th></th>\n",
              "      <th></th>\n",
              "      <th></th>\n",
              "      <th></th>\n",
              "      <th></th>\n",
              "      <th></th>\n",
              "      <th></th>\n",
              "      <th></th>\n",
              "      <th></th>\n",
              "      <th></th>\n",
              "    </tr>\n",
              "  </thead>\n",
              "  <tbody>\n",
              "    <tr>\n",
              "      <th>Firm 1</th>\n",
              "      <td>-17754.10</td>\n",
              "      <td>0.00</td>\n",
              "      <td>0.00</td>\n",
              "      <td>0.00</td>\n",
              "      <td>0.00</td>\n",
              "      <td>2021.32</td>\n",
              "      <td>0.00</td>\n",
              "      <td>0.00</td>\n",
              "      <td>0.00</td>\n",
              "      <td>0.00</td>\n",
              "      <td>...</td>\n",
              "      <td>40171.68</td>\n",
              "      <td>0.00</td>\n",
              "      <td>0.00</td>\n",
              "      <td>0.00</td>\n",
              "      <td>0.00</td>\n",
              "      <td>1243.92</td>\n",
              "      <td>4.40</td>\n",
              "      <td>0.00</td>\n",
              "      <td>0.00</td>\n",
              "      <td>0.00</td>\n",
              "    </tr>\n",
              "    <tr>\n",
              "      <th>Firm 2</th>\n",
              "      <td>9.24</td>\n",
              "      <td>0.10</td>\n",
              "      <td>40.81</td>\n",
              "      <td>35.64</td>\n",
              "      <td>13.63</td>\n",
              "      <td>16.46</td>\n",
              "      <td>15.01</td>\n",
              "      <td>14.23</td>\n",
              "      <td>15.04</td>\n",
              "      <td>1.59</td>\n",
              "      <td>...</td>\n",
              "      <td>7.97</td>\n",
              "      <td>12.80</td>\n",
              "      <td>11.33</td>\n",
              "      <td>6.73</td>\n",
              "      <td>16.17</td>\n",
              "      <td>8.76</td>\n",
              "      <td>48.43</td>\n",
              "      <td>0.07</td>\n",
              "      <td>43.37</td>\n",
              "      <td>12.46</td>\n",
              "    </tr>\n",
              "    <tr>\n",
              "      <th>Firm 3</th>\n",
              "      <td>0.00</td>\n",
              "      <td>0.81</td>\n",
              "      <td>36.62</td>\n",
              "      <td>86.63</td>\n",
              "      <td>54.74</td>\n",
              "      <td>486.89</td>\n",
              "      <td>495.79</td>\n",
              "      <td>626.61</td>\n",
              "      <td>81.24</td>\n",
              "      <td>362.09</td>\n",
              "      <td>...</td>\n",
              "      <td>68.00</td>\n",
              "      <td>1592.31</td>\n",
              "      <td>1005.33</td>\n",
              "      <td>593.69</td>\n",
              "      <td>374.71</td>\n",
              "      <td>210.92</td>\n",
              "      <td>100.78</td>\n",
              "      <td>87.59</td>\n",
              "      <td>922.49</td>\n",
              "      <td>412.47</td>\n",
              "    </tr>\n",
              "    <tr>\n",
              "      <th>Firm 4</th>\n",
              "      <td>19677.45</td>\n",
              "      <td>41072.82</td>\n",
              "      <td>20885.51</td>\n",
              "      <td>14719.67</td>\n",
              "      <td>49204.47</td>\n",
              "      <td>15975.65</td>\n",
              "      <td>15367.89</td>\n",
              "      <td>10797.12</td>\n",
              "      <td>22788.36</td>\n",
              "      <td>16090.31</td>\n",
              "      <td>...</td>\n",
              "      <td>48416.74</td>\n",
              "      <td>30870.23</td>\n",
              "      <td>68145.07</td>\n",
              "      <td>92600.14</td>\n",
              "      <td>92273.05</td>\n",
              "      <td>24862.17</td>\n",
              "      <td>7191.96</td>\n",
              "      <td>12910.35</td>\n",
              "      <td>12586.97</td>\n",
              "      <td>24127.84</td>\n",
              "    </tr>\n",
              "    <tr>\n",
              "      <th>Firm 5</th>\n",
              "      <td>128.81</td>\n",
              "      <td>10.41</td>\n",
              "      <td>79.58</td>\n",
              "      <td>79.42</td>\n",
              "      <td>61.73</td>\n",
              "      <td>32.74</td>\n",
              "      <td>43.95</td>\n",
              "      <td>31.62</td>\n",
              "      <td>30.12</td>\n",
              "      <td>91.52</td>\n",
              "      <td>...</td>\n",
              "      <td>267.46</td>\n",
              "      <td>22.98</td>\n",
              "      <td>69.34</td>\n",
              "      <td>16.84</td>\n",
              "      <td>106.18</td>\n",
              "      <td>262.68</td>\n",
              "      <td>7.59</td>\n",
              "      <td>96.95</td>\n",
              "      <td>104.61</td>\n",
              "      <td>103.18</td>\n",
              "    </tr>\n",
              "  </tbody>\n",
              "</table>\n",
              "<p>5 rows × 40 columns</p>\n",
              "</div>\n",
              "    <div class=\"colab-df-buttons\">\n",
              "\n",
              "  <div class=\"colab-df-container\">\n",
              "    <button class=\"colab-df-convert\" onclick=\"convertToInteractive('df-3e1e74cd-25ed-4d8b-8ac2-7f4bca307e73')\"\n",
              "            title=\"Convert this dataframe to an interactive table.\"\n",
              "            style=\"display:none;\">\n",
              "\n",
              "  <svg xmlns=\"http://www.w3.org/2000/svg\" height=\"24px\" viewBox=\"0 -960 960 960\">\n",
              "    <path d=\"M120-120v-720h720v720H120Zm60-500h600v-160H180v160Zm220 220h160v-160H400v160Zm0 220h160v-160H400v160ZM180-400h160v-160H180v160Zm440 0h160v-160H620v160ZM180-180h160v-160H180v160Zm440 0h160v-160H620v160Z\"/>\n",
              "  </svg>\n",
              "    </button>\n",
              "\n",
              "  <style>\n",
              "    .colab-df-container {\n",
              "      display:flex;\n",
              "      gap: 12px;\n",
              "    }\n",
              "\n",
              "    .colab-df-convert {\n",
              "      background-color: #E8F0FE;\n",
              "      border: none;\n",
              "      border-radius: 50%;\n",
              "      cursor: pointer;\n",
              "      display: none;\n",
              "      fill: #1967D2;\n",
              "      height: 32px;\n",
              "      padding: 0 0 0 0;\n",
              "      width: 32px;\n",
              "    }\n",
              "\n",
              "    .colab-df-convert:hover {\n",
              "      background-color: #E2EBFA;\n",
              "      box-shadow: 0px 1px 2px rgba(60, 64, 67, 0.3), 0px 1px 3px 1px rgba(60, 64, 67, 0.15);\n",
              "      fill: #174EA6;\n",
              "    }\n",
              "\n",
              "    .colab-df-buttons div {\n",
              "      margin-bottom: 4px;\n",
              "    }\n",
              "\n",
              "    [theme=dark] .colab-df-convert {\n",
              "      background-color: #3B4455;\n",
              "      fill: #D2E3FC;\n",
              "    }\n",
              "\n",
              "    [theme=dark] .colab-df-convert:hover {\n",
              "      background-color: #434B5C;\n",
              "      box-shadow: 0px 1px 3px 1px rgba(0, 0, 0, 0.15);\n",
              "      filter: drop-shadow(0px 1px 2px rgba(0, 0, 0, 0.3));\n",
              "      fill: #FFFFFF;\n",
              "    }\n",
              "  </style>\n",
              "\n",
              "    <script>\n",
              "      const buttonEl =\n",
              "        document.querySelector('#df-3e1e74cd-25ed-4d8b-8ac2-7f4bca307e73 button.colab-df-convert');\n",
              "      buttonEl.style.display =\n",
              "        google.colab.kernel.accessAllowed ? 'block' : 'none';\n",
              "\n",
              "      async function convertToInteractive(key) {\n",
              "        const element = document.querySelector('#df-3e1e74cd-25ed-4d8b-8ac2-7f4bca307e73');\n",
              "        const dataTable =\n",
              "          await google.colab.kernel.invokeFunction('convertToInteractive',\n",
              "                                                    [key], {});\n",
              "        if (!dataTable) return;\n",
              "\n",
              "        const docLinkHtml = 'Like what you see? Visit the ' +\n",
              "          '<a target=\"_blank\" href=https://colab.research.google.com/notebooks/data_table.ipynb>data table notebook</a>'\n",
              "          + ' to learn more about interactive tables.';\n",
              "        element.innerHTML = '';\n",
              "        dataTable['output_type'] = 'display_data';\n",
              "        await google.colab.output.renderOutput(dataTable, element);\n",
              "        const docLink = document.createElement('div');\n",
              "        docLink.innerHTML = docLinkHtml;\n",
              "        element.appendChild(docLink);\n",
              "      }\n",
              "    </script>\n",
              "  </div>\n",
              "\n",
              "\n",
              "<div id=\"df-1b1fd7c2-d5d4-4c9b-a35e-06a3158b2059\">\n",
              "  <button class=\"colab-df-quickchart\" onclick=\"quickchart('df-1b1fd7c2-d5d4-4c9b-a35e-06a3158b2059')\"\n",
              "            title=\"Suggest charts\"\n",
              "            style=\"display:none;\">\n",
              "\n",
              "<svg xmlns=\"http://www.w3.org/2000/svg\" height=\"24px\"viewBox=\"0 0 24 24\"\n",
              "     width=\"24px\">\n",
              "    <g>\n",
              "        <path d=\"M19 3H5c-1.1 0-2 .9-2 2v14c0 1.1.9 2 2 2h14c1.1 0 2-.9 2-2V5c0-1.1-.9-2-2-2zM9 17H7v-7h2v7zm4 0h-2V7h2v10zm4 0h-2v-4h2v4z\"/>\n",
              "    </g>\n",
              "</svg>\n",
              "  </button>\n",
              "\n",
              "<style>\n",
              "  .colab-df-quickchart {\n",
              "      --bg-color: #E8F0FE;\n",
              "      --fill-color: #1967D2;\n",
              "      --hover-bg-color: #E2EBFA;\n",
              "      --hover-fill-color: #174EA6;\n",
              "      --disabled-fill-color: #AAA;\n",
              "      --disabled-bg-color: #DDD;\n",
              "  }\n",
              "\n",
              "  [theme=dark] .colab-df-quickchart {\n",
              "      --bg-color: #3B4455;\n",
              "      --fill-color: #D2E3FC;\n",
              "      --hover-bg-color: #434B5C;\n",
              "      --hover-fill-color: #FFFFFF;\n",
              "      --disabled-bg-color: #3B4455;\n",
              "      --disabled-fill-color: #666;\n",
              "  }\n",
              "\n",
              "  .colab-df-quickchart {\n",
              "    background-color: var(--bg-color);\n",
              "    border: none;\n",
              "    border-radius: 50%;\n",
              "    cursor: pointer;\n",
              "    display: none;\n",
              "    fill: var(--fill-color);\n",
              "    height: 32px;\n",
              "    padding: 0;\n",
              "    width: 32px;\n",
              "  }\n",
              "\n",
              "  .colab-df-quickchart:hover {\n",
              "    background-color: var(--hover-bg-color);\n",
              "    box-shadow: 0 1px 2px rgba(60, 64, 67, 0.3), 0 1px 3px 1px rgba(60, 64, 67, 0.15);\n",
              "    fill: var(--button-hover-fill-color);\n",
              "  }\n",
              "\n",
              "  .colab-df-quickchart-complete:disabled,\n",
              "  .colab-df-quickchart-complete:disabled:hover {\n",
              "    background-color: var(--disabled-bg-color);\n",
              "    fill: var(--disabled-fill-color);\n",
              "    box-shadow: none;\n",
              "  }\n",
              "\n",
              "  .colab-df-spinner {\n",
              "    border: 2px solid var(--fill-color);\n",
              "    border-color: transparent;\n",
              "    border-bottom-color: var(--fill-color);\n",
              "    animation:\n",
              "      spin 1s steps(1) infinite;\n",
              "  }\n",
              "\n",
              "  @keyframes spin {\n",
              "    0% {\n",
              "      border-color: transparent;\n",
              "      border-bottom-color: var(--fill-color);\n",
              "      border-left-color: var(--fill-color);\n",
              "    }\n",
              "    20% {\n",
              "      border-color: transparent;\n",
              "      border-left-color: var(--fill-color);\n",
              "      border-top-color: var(--fill-color);\n",
              "    }\n",
              "    30% {\n",
              "      border-color: transparent;\n",
              "      border-left-color: var(--fill-color);\n",
              "      border-top-color: var(--fill-color);\n",
              "      border-right-color: var(--fill-color);\n",
              "    }\n",
              "    40% {\n",
              "      border-color: transparent;\n",
              "      border-right-color: var(--fill-color);\n",
              "      border-top-color: var(--fill-color);\n",
              "    }\n",
              "    60% {\n",
              "      border-color: transparent;\n",
              "      border-right-color: var(--fill-color);\n",
              "    }\n",
              "    80% {\n",
              "      border-color: transparent;\n",
              "      border-right-color: var(--fill-color);\n",
              "      border-bottom-color: var(--fill-color);\n",
              "    }\n",
              "    90% {\n",
              "      border-color: transparent;\n",
              "      border-bottom-color: var(--fill-color);\n",
              "    }\n",
              "  }\n",
              "</style>\n",
              "\n",
              "  <script>\n",
              "    async function quickchart(key) {\n",
              "      const quickchartButtonEl =\n",
              "        document.querySelector('#' + key + ' button');\n",
              "      quickchartButtonEl.disabled = true;  // To prevent multiple clicks.\n",
              "      quickchartButtonEl.classList.add('colab-df-spinner');\n",
              "      try {\n",
              "        const charts = await google.colab.kernel.invokeFunction(\n",
              "            'suggestCharts', [key], {});\n",
              "      } catch (error) {\n",
              "        console.error('Error during call to suggestCharts:', error);\n",
              "      }\n",
              "      quickchartButtonEl.classList.remove('colab-df-spinner');\n",
              "      quickchartButtonEl.classList.add('colab-df-quickchart-complete');\n",
              "    }\n",
              "    (() => {\n",
              "      let quickchartButtonEl =\n",
              "        document.querySelector('#df-1b1fd7c2-d5d4-4c9b-a35e-06a3158b2059 button');\n",
              "      quickchartButtonEl.style.display =\n",
              "        google.colab.kernel.accessAllowed ? 'block' : 'none';\n",
              "    })();\n",
              "  </script>\n",
              "</div>\n",
              "    </div>\n",
              "  </div>\n"
            ],
            "application/vnd.google.colaboratory.intrinsic+json": {
              "type": "dataframe",
              "variable_name": "general_data"
            }
          },
          "metadata": {},
          "execution_count": 453
        }
      ]
    },
    {
      "cell_type": "code",
      "source": [
        "# Display the first few rows of each dataframe to understand their structure\n",
        "general_data_corrected_head = general_data.head()\n",
        "underwriting_data_head = underwriting_data.head()\n",
        "\n",
        "#(general_data_corrected_head, underwriting_data_head)"
      ],
      "metadata": {
        "id": "dUmOsZ07NDAi"
      },
      "execution_count": 462,
      "outputs": []
    },
    {
      "cell_type": "code",
      "source": [
        "print(\"\\nMissing values:\")\n",
        "print(general_data.isnull().sum())\n",
        "print('----------------------------------------')\n",
        "print(underwriting_data.isnull().sum())"
      ],
      "metadata": {
        "colab": {
          "base_uri": "https://localhost:8080/"
        },
        "id": "DIjL9EzQAz4L",
        "outputId": "336d26c3-04ac-449b-99f7-d9e111d6ece9"
      },
      "execution_count": 463,
      "outputs": [
        {
          "output_type": "stream",
          "name": "stdout",
          "text": [
            "\n",
            "Missing values:\n",
            "NWP_(£m)_2016YE                                             0\n",
            "NWP_(£m)_2017YE                                             0\n",
            "NWP_(£m)_2018YE                                             0\n",
            "NWP_(£m)_2019YE                                             0\n",
            "NWP_(£m)_2020YE                                             0\n",
            "SCR_(£m)_2016YE                                             0\n",
            "SCR_(£m)_2017YE                                             0\n",
            "SCR_(£m)_2018YE                                             0\n",
            "SCR_(£m)_2019YE                                             0\n",
            "SCR_(£m)_2020YE                                             0\n",
            "EoF_for_SCR_(£m)_2016YE                                     0\n",
            "EoF_for_SCR_(£m)_2017YE                                     0\n",
            "EoF_for_SCR_(£m)_2018YE                                     0\n",
            "EoF_for_SCR_(£m)_2019YE                                     0\n",
            "EoF_for_SCR_(£m)_2020YE                                     0\n",
            "SCR_coverage_ratio_2016YE                                   1\n",
            "SCR_coverage_ratio_2017YE                                   4\n",
            "SCR_coverage_ratio_2018YE                                   2\n",
            "SCR_coverage_ratio_2019YE                                   0\n",
            "SCR_coverage_ratio_2020YE                                   0\n",
            "GWP_(£m)_2016YE                                             0\n",
            "GWP_(£m)_2017YE                                             0\n",
            "GWP_(£m)_2018YE                                             0\n",
            "GWP_(£m)_2019YE                                             0\n",
            "GWP_(£m)_2020YE                                             0\n",
            "Total_assets_(£m)_2016YE                                    7\n",
            "Total_assets_(£m)_2017YE                                    5\n",
            "Total_assets_(£m)_2018YE                                    6\n",
            "Total_assets_(£m)_2019YE                                    8\n",
            "Total_assets_(£m)_2020YE                                    9\n",
            "Total_liabilities_(£m)_2016YE                               6\n",
            "Total_liabilities_(£m)_2017YE                               5\n",
            "Total_liabilities_(£m)_2018YE                               8\n",
            "Total_liabilities_(£m)_2019YE                               8\n",
            "Total_liabilities_(£m)_2020YE                               6\n",
            "Excess_of_assets_over_liabilities_(£m)_[=_equity]_2016YE    0\n",
            "Excess_of_assets_over_liabilities_(£m)_[=_equity]_2017YE    0\n",
            "Excess_of_assets_over_liabilities_(£m)_[=_equity]_2018YE    0\n",
            "Excess_of_assets_over_liabilities_(£m)_[=_equity]_2019YE    0\n",
            "Excess_of_assets_over_liabilities_(£m)_[=_equity]_2020YE    0\n",
            "Firm                                                        0\n",
            "dtype: int64\n",
            "----------------------------------------\n",
            "Gross_claims_incurred_(£m)_2016YE                      0\n",
            "Gross_claims_incurred_(£m)_2017YE                      0\n",
            "Gross_claims_incurred_(£m)_2018YE                      0\n",
            "Gross_claims_incurred_(£m)_2019YE                      0\n",
            "Gross_claims_incurred_(£m)_2020YE                      0\n",
            "Gross_BEL_(inc._TPs_as_whole,_pre-TMTP)_(£m)_2016YE    0\n",
            "Gross_BEL_(inc._TPs_as_whole,_pre-TMTP)_(£m)_2017YE    0\n",
            "Gross_BEL_(inc._TPs_as_whole,_pre-TMTP)_(£m)_2018YE    0\n",
            "Gross_BEL_(inc._TPs_as_whole,_pre-TMTP)_(£m)_2019YE    0\n",
            "Gross_BEL_(inc._TPs_as_whole,_pre-TMTP)_(£m)_2020YE    0\n",
            "Net_BEL_(inc._TPs_as_a_whole,_pre-TMTP)_(£m)_2016YE    0\n",
            "Net_BEL_(inc._TPs_as_a_whole,_pre-TMTP)_(£m)_2017YE    0\n",
            "Net_BEL_(inc._TPs_as_a_whole,_pre-TMTP)_(£m)_2018YE    0\n",
            "Net_BEL_(inc._TPs_as_a_whole,_pre-TMTP)_(£m)_2019YE    0\n",
            "Net_BEL_(inc._TPs_as_a_whole,_pre-TMTP)_(£m)_2020YE    0\n",
            "Pure_net_claims_ratio_2016YE                           0\n",
            "Pure_net_claims_ratio_2017YE                           0\n",
            "Pure_net_claims_ratio_2018YE                           0\n",
            "Pure_net_claims_ratio_2019YE                           0\n",
            "Pure_net_claims_ratio_2020YE                           0\n",
            "Net_expense_ratio_2016YE                               0\n",
            "Net_expense_ratio_2017YE                               0\n",
            "Net_expense_ratio_2018YE                               0\n",
            "Net_expense_ratio_2019YE                               0\n",
            "Net_expense_ratio_2020YE                               0\n",
            "Net_combined_ratio_2016YE                              0\n",
            "Net_combined_ratio_2017YE                              0\n",
            "Net_combined_ratio_2018YE                              0\n",
            "Net_combined_ratio_2019YE                              0\n",
            "Net_combined_ratio_2020YE                              0\n",
            "Pure_gross_claims_ratio_2016YE                         0\n",
            "Pure_gross_claims_ratio_2017YE                         0\n",
            "Pure_gross_claims_ratio_2018YE                         0\n",
            "Pure_gross_claims_ratio_2019YE                         0\n",
            "Pure_gross_claims_ratio_2020YE                         0\n",
            "Gross_expense_ratio_2016YE                             0\n",
            "Gross_expense_ratio_2017YE                             0\n",
            "Gross_expense_ratio_2018YE                             0\n",
            "Gross_expense_ratio_2019YE                             0\n",
            "Gross_expense_ratio_2020YE                             0\n",
            "Gross_combined_ratio_2016YE                            0\n",
            "Gross_combined_ratio_2017YE                            0\n",
            "Gross_combined_ratio_2018YE                            0\n",
            "Gross_combined_ratio_2019YE                            0\n",
            "Gross_combined_ratio_2020YE                            0\n",
            "Firm                                                   0\n",
            "dtype: int64\n"
          ]
        }
      ]
    },
    {
      "cell_type": "code",
      "source": [
        "# Create a 'Firm' column in each dataset\n",
        "general_data['Firm'] = 'Firm ' + general_data.index.astype(str)\n",
        "underwriting_data['Firm'] = 'Firm ' + underwriting_data.index.astype(str)"
      ],
      "metadata": {
        "id": "A_JD-lhGAz6W"
      },
      "execution_count": 464,
      "outputs": []
    },
    {
      "cell_type": "code",
      "source": [
        "# Merge the datasets based on the 'Firm' column\n",
        "data = pd.merge(general_data, underwriting_data, on='Firm', how='outer')\n",
        "data.head()\n",
        "#print(data.columns)"
      ],
      "metadata": {
        "colab": {
          "base_uri": "https://localhost:8080/",
          "height": 256
        },
        "id": "3_BT7Y_3Az8U",
        "outputId": "aabb9de9-4c57-4805-f2c5-c76d519bed84"
      },
      "execution_count": 465,
      "outputs": [
        {
          "output_type": "execute_result",
          "data": {
            "text/plain": [
              "   NWP_(£m)_2016YE  NWP_(£m)_2017YE  NWP_(£m)_2018YE  NWP_(£m)_2019YE  \\\n",
              "0        -17754.10             0.00             0.00             0.00   \n",
              "1             9.24             0.10            40.81            35.64   \n",
              "2             0.00             0.81            36.62            86.63   \n",
              "3         19677.45         41072.82         20885.51         14719.67   \n",
              "4           128.81            10.41            79.58            79.42   \n",
              "\n",
              "   NWP_(£m)_2020YE  SCR_(£m)_2016YE  SCR_(£m)_2017YE  SCR_(£m)_2018YE  \\\n",
              "0             0.00          2021.32             0.00             0.00   \n",
              "1            13.63            16.46            15.01            14.23   \n",
              "2            54.74           486.89           495.79           626.61   \n",
              "3         49204.47         15975.65         15367.89         10797.12   \n",
              "4            61.73            32.74            43.95            31.62   \n",
              "\n",
              "   SCR_(£m)_2019YE  SCR_(£m)_2020YE  ...  Gross_expense_ratio_2016YE  \\\n",
              "0             0.00             0.00  ...                    0.000000   \n",
              "1            15.04             1.59  ...                    0.391179   \n",
              "2            81.24           362.09  ...                    0.000000   \n",
              "3         22788.36         16090.31  ...                    0.231139   \n",
              "4            30.12            91.52  ...                    0.236128   \n",
              "\n",
              "   Gross_expense_ratio_2017YE  Gross_expense_ratio_2018YE  \\\n",
              "0                   77.251254                    0.000000   \n",
              "1                    0.685941                    1.433284   \n",
              "2                    0.000000                    0.000000   \n",
              "3                    0.285471                    0.054150   \n",
              "4                    0.232725                    0.204508   \n",
              "\n",
              "   Gross_expense_ratio_2019YE  Gross_expense_ratio_2020YE  \\\n",
              "0                    0.000000                    0.000000   \n",
              "1                    0.000000                    0.000000   \n",
              "2                    0.000000                    0.000000   \n",
              "3                    0.051848                   -0.162883   \n",
              "4                    0.131739                    0.048703   \n",
              "\n",
              "   Gross_combined_ratio_2016YE  Gross_combined_ratio_2017YE  \\\n",
              "0                     0.000000                     0.675051   \n",
              "1                     1.750946                     1.321523   \n",
              "2                     0.000000                     0.000000   \n",
              "3                     1.047234                     0.476384   \n",
              "4                     0.243611                     1.977732   \n",
              "\n",
              "   Gross_combined_ratio_2018YE  Gross_combined_ratio_2019YE  \\\n",
              "0                     0.000000                     0.000000   \n",
              "1                     1.545325                     0.000000   \n",
              "2                     0.000000                     0.000000   \n",
              "3                     3.307379                     1.247403   \n",
              "4                     2.495287                     0.365455   \n",
              "\n",
              "   Gross_combined_ratio_2020YE  \n",
              "0                     0.000000  \n",
              "1                     0.000000  \n",
              "2                     0.000000  \n",
              "3                    -2.303093  \n",
              "4                     1.133645  \n",
              "\n",
              "[5 rows x 86 columns]"
            ],
            "text/html": [
              "\n",
              "  <div id=\"df-df8908bf-67ef-4cd6-a60d-73bceb48bd2d\" class=\"colab-df-container\">\n",
              "    <div>\n",
              "<style scoped>\n",
              "    .dataframe tbody tr th:only-of-type {\n",
              "        vertical-align: middle;\n",
              "    }\n",
              "\n",
              "    .dataframe tbody tr th {\n",
              "        vertical-align: top;\n",
              "    }\n",
              "\n",
              "    .dataframe thead th {\n",
              "        text-align: right;\n",
              "    }\n",
              "</style>\n",
              "<table border=\"1\" class=\"dataframe\">\n",
              "  <thead>\n",
              "    <tr style=\"text-align: right;\">\n",
              "      <th></th>\n",
              "      <th>NWP_(£m)_2016YE</th>\n",
              "      <th>NWP_(£m)_2017YE</th>\n",
              "      <th>NWP_(£m)_2018YE</th>\n",
              "      <th>NWP_(£m)_2019YE</th>\n",
              "      <th>NWP_(£m)_2020YE</th>\n",
              "      <th>SCR_(£m)_2016YE</th>\n",
              "      <th>SCR_(£m)_2017YE</th>\n",
              "      <th>SCR_(£m)_2018YE</th>\n",
              "      <th>SCR_(£m)_2019YE</th>\n",
              "      <th>SCR_(£m)_2020YE</th>\n",
              "      <th>...</th>\n",
              "      <th>Gross_expense_ratio_2016YE</th>\n",
              "      <th>Gross_expense_ratio_2017YE</th>\n",
              "      <th>Gross_expense_ratio_2018YE</th>\n",
              "      <th>Gross_expense_ratio_2019YE</th>\n",
              "      <th>Gross_expense_ratio_2020YE</th>\n",
              "      <th>Gross_combined_ratio_2016YE</th>\n",
              "      <th>Gross_combined_ratio_2017YE</th>\n",
              "      <th>Gross_combined_ratio_2018YE</th>\n",
              "      <th>Gross_combined_ratio_2019YE</th>\n",
              "      <th>Gross_combined_ratio_2020YE</th>\n",
              "    </tr>\n",
              "  </thead>\n",
              "  <tbody>\n",
              "    <tr>\n",
              "      <th>0</th>\n",
              "      <td>-17754.10</td>\n",
              "      <td>0.00</td>\n",
              "      <td>0.00</td>\n",
              "      <td>0.00</td>\n",
              "      <td>0.00</td>\n",
              "      <td>2021.32</td>\n",
              "      <td>0.00</td>\n",
              "      <td>0.00</td>\n",
              "      <td>0.00</td>\n",
              "      <td>0.00</td>\n",
              "      <td>...</td>\n",
              "      <td>0.000000</td>\n",
              "      <td>77.251254</td>\n",
              "      <td>0.000000</td>\n",
              "      <td>0.000000</td>\n",
              "      <td>0.000000</td>\n",
              "      <td>0.000000</td>\n",
              "      <td>0.675051</td>\n",
              "      <td>0.000000</td>\n",
              "      <td>0.000000</td>\n",
              "      <td>0.000000</td>\n",
              "    </tr>\n",
              "    <tr>\n",
              "      <th>1</th>\n",
              "      <td>9.24</td>\n",
              "      <td>0.10</td>\n",
              "      <td>40.81</td>\n",
              "      <td>35.64</td>\n",
              "      <td>13.63</td>\n",
              "      <td>16.46</td>\n",
              "      <td>15.01</td>\n",
              "      <td>14.23</td>\n",
              "      <td>15.04</td>\n",
              "      <td>1.59</td>\n",
              "      <td>...</td>\n",
              "      <td>0.391179</td>\n",
              "      <td>0.685941</td>\n",
              "      <td>1.433284</td>\n",
              "      <td>0.000000</td>\n",
              "      <td>0.000000</td>\n",
              "      <td>1.750946</td>\n",
              "      <td>1.321523</td>\n",
              "      <td>1.545325</td>\n",
              "      <td>0.000000</td>\n",
              "      <td>0.000000</td>\n",
              "    </tr>\n",
              "    <tr>\n",
              "      <th>2</th>\n",
              "      <td>0.00</td>\n",
              "      <td>0.81</td>\n",
              "      <td>36.62</td>\n",
              "      <td>86.63</td>\n",
              "      <td>54.74</td>\n",
              "      <td>486.89</td>\n",
              "      <td>495.79</td>\n",
              "      <td>626.61</td>\n",
              "      <td>81.24</td>\n",
              "      <td>362.09</td>\n",
              "      <td>...</td>\n",
              "      <td>0.000000</td>\n",
              "      <td>0.000000</td>\n",
              "      <td>0.000000</td>\n",
              "      <td>0.000000</td>\n",
              "      <td>0.000000</td>\n",
              "      <td>0.000000</td>\n",
              "      <td>0.000000</td>\n",
              "      <td>0.000000</td>\n",
              "      <td>0.000000</td>\n",
              "      <td>0.000000</td>\n",
              "    </tr>\n",
              "    <tr>\n",
              "      <th>3</th>\n",
              "      <td>19677.45</td>\n",
              "      <td>41072.82</td>\n",
              "      <td>20885.51</td>\n",
              "      <td>14719.67</td>\n",
              "      <td>49204.47</td>\n",
              "      <td>15975.65</td>\n",
              "      <td>15367.89</td>\n",
              "      <td>10797.12</td>\n",
              "      <td>22788.36</td>\n",
              "      <td>16090.31</td>\n",
              "      <td>...</td>\n",
              "      <td>0.231139</td>\n",
              "      <td>0.285471</td>\n",
              "      <td>0.054150</td>\n",
              "      <td>0.051848</td>\n",
              "      <td>-0.162883</td>\n",
              "      <td>1.047234</td>\n",
              "      <td>0.476384</td>\n",
              "      <td>3.307379</td>\n",
              "      <td>1.247403</td>\n",
              "      <td>-2.303093</td>\n",
              "    </tr>\n",
              "    <tr>\n",
              "      <th>4</th>\n",
              "      <td>128.81</td>\n",
              "      <td>10.41</td>\n",
              "      <td>79.58</td>\n",
              "      <td>79.42</td>\n",
              "      <td>61.73</td>\n",
              "      <td>32.74</td>\n",
              "      <td>43.95</td>\n",
              "      <td>31.62</td>\n",
              "      <td>30.12</td>\n",
              "      <td>91.52</td>\n",
              "      <td>...</td>\n",
              "      <td>0.236128</td>\n",
              "      <td>0.232725</td>\n",
              "      <td>0.204508</td>\n",
              "      <td>0.131739</td>\n",
              "      <td>0.048703</td>\n",
              "      <td>0.243611</td>\n",
              "      <td>1.977732</td>\n",
              "      <td>2.495287</td>\n",
              "      <td>0.365455</td>\n",
              "      <td>1.133645</td>\n",
              "    </tr>\n",
              "  </tbody>\n",
              "</table>\n",
              "<p>5 rows × 86 columns</p>\n",
              "</div>\n",
              "    <div class=\"colab-df-buttons\">\n",
              "\n",
              "  <div class=\"colab-df-container\">\n",
              "    <button class=\"colab-df-convert\" onclick=\"convertToInteractive('df-df8908bf-67ef-4cd6-a60d-73bceb48bd2d')\"\n",
              "            title=\"Convert this dataframe to an interactive table.\"\n",
              "            style=\"display:none;\">\n",
              "\n",
              "  <svg xmlns=\"http://www.w3.org/2000/svg\" height=\"24px\" viewBox=\"0 -960 960 960\">\n",
              "    <path d=\"M120-120v-720h720v720H120Zm60-500h600v-160H180v160Zm220 220h160v-160H400v160Zm0 220h160v-160H400v160ZM180-400h160v-160H180v160Zm440 0h160v-160H620v160ZM180-180h160v-160H180v160Zm440 0h160v-160H620v160Z\"/>\n",
              "  </svg>\n",
              "    </button>\n",
              "\n",
              "  <style>\n",
              "    .colab-df-container {\n",
              "      display:flex;\n",
              "      gap: 12px;\n",
              "    }\n",
              "\n",
              "    .colab-df-convert {\n",
              "      background-color: #E8F0FE;\n",
              "      border: none;\n",
              "      border-radius: 50%;\n",
              "      cursor: pointer;\n",
              "      display: none;\n",
              "      fill: #1967D2;\n",
              "      height: 32px;\n",
              "      padding: 0 0 0 0;\n",
              "      width: 32px;\n",
              "    }\n",
              "\n",
              "    .colab-df-convert:hover {\n",
              "      background-color: #E2EBFA;\n",
              "      box-shadow: 0px 1px 2px rgba(60, 64, 67, 0.3), 0px 1px 3px 1px rgba(60, 64, 67, 0.15);\n",
              "      fill: #174EA6;\n",
              "    }\n",
              "\n",
              "    .colab-df-buttons div {\n",
              "      margin-bottom: 4px;\n",
              "    }\n",
              "\n",
              "    [theme=dark] .colab-df-convert {\n",
              "      background-color: #3B4455;\n",
              "      fill: #D2E3FC;\n",
              "    }\n",
              "\n",
              "    [theme=dark] .colab-df-convert:hover {\n",
              "      background-color: #434B5C;\n",
              "      box-shadow: 0px 1px 3px 1px rgba(0, 0, 0, 0.15);\n",
              "      filter: drop-shadow(0px 1px 2px rgba(0, 0, 0, 0.3));\n",
              "      fill: #FFFFFF;\n",
              "    }\n",
              "  </style>\n",
              "\n",
              "    <script>\n",
              "      const buttonEl =\n",
              "        document.querySelector('#df-df8908bf-67ef-4cd6-a60d-73bceb48bd2d button.colab-df-convert');\n",
              "      buttonEl.style.display =\n",
              "        google.colab.kernel.accessAllowed ? 'block' : 'none';\n",
              "\n",
              "      async function convertToInteractive(key) {\n",
              "        const element = document.querySelector('#df-df8908bf-67ef-4cd6-a60d-73bceb48bd2d');\n",
              "        const dataTable =\n",
              "          await google.colab.kernel.invokeFunction('convertToInteractive',\n",
              "                                                    [key], {});\n",
              "        if (!dataTable) return;\n",
              "\n",
              "        const docLinkHtml = 'Like what you see? Visit the ' +\n",
              "          '<a target=\"_blank\" href=https://colab.research.google.com/notebooks/data_table.ipynb>data table notebook</a>'\n",
              "          + ' to learn more about interactive tables.';\n",
              "        element.innerHTML = '';\n",
              "        dataTable['output_type'] = 'display_data';\n",
              "        await google.colab.output.renderOutput(dataTable, element);\n",
              "        const docLink = document.createElement('div');\n",
              "        docLink.innerHTML = docLinkHtml;\n",
              "        element.appendChild(docLink);\n",
              "      }\n",
              "    </script>\n",
              "  </div>\n",
              "\n",
              "\n",
              "<div id=\"df-1f0ba21a-a69d-4660-ad36-71cd8136d8a7\">\n",
              "  <button class=\"colab-df-quickchart\" onclick=\"quickchart('df-1f0ba21a-a69d-4660-ad36-71cd8136d8a7')\"\n",
              "            title=\"Suggest charts\"\n",
              "            style=\"display:none;\">\n",
              "\n",
              "<svg xmlns=\"http://www.w3.org/2000/svg\" height=\"24px\"viewBox=\"0 0 24 24\"\n",
              "     width=\"24px\">\n",
              "    <g>\n",
              "        <path d=\"M19 3H5c-1.1 0-2 .9-2 2v14c0 1.1.9 2 2 2h14c1.1 0 2-.9 2-2V5c0-1.1-.9-2-2-2zM9 17H7v-7h2v7zm4 0h-2V7h2v10zm4 0h-2v-4h2v4z\"/>\n",
              "    </g>\n",
              "</svg>\n",
              "  </button>\n",
              "\n",
              "<style>\n",
              "  .colab-df-quickchart {\n",
              "      --bg-color: #E8F0FE;\n",
              "      --fill-color: #1967D2;\n",
              "      --hover-bg-color: #E2EBFA;\n",
              "      --hover-fill-color: #174EA6;\n",
              "      --disabled-fill-color: #AAA;\n",
              "      --disabled-bg-color: #DDD;\n",
              "  }\n",
              "\n",
              "  [theme=dark] .colab-df-quickchart {\n",
              "      --bg-color: #3B4455;\n",
              "      --fill-color: #D2E3FC;\n",
              "      --hover-bg-color: #434B5C;\n",
              "      --hover-fill-color: #FFFFFF;\n",
              "      --disabled-bg-color: #3B4455;\n",
              "      --disabled-fill-color: #666;\n",
              "  }\n",
              "\n",
              "  .colab-df-quickchart {\n",
              "    background-color: var(--bg-color);\n",
              "    border: none;\n",
              "    border-radius: 50%;\n",
              "    cursor: pointer;\n",
              "    display: none;\n",
              "    fill: var(--fill-color);\n",
              "    height: 32px;\n",
              "    padding: 0;\n",
              "    width: 32px;\n",
              "  }\n",
              "\n",
              "  .colab-df-quickchart:hover {\n",
              "    background-color: var(--hover-bg-color);\n",
              "    box-shadow: 0 1px 2px rgba(60, 64, 67, 0.3), 0 1px 3px 1px rgba(60, 64, 67, 0.15);\n",
              "    fill: var(--button-hover-fill-color);\n",
              "  }\n",
              "\n",
              "  .colab-df-quickchart-complete:disabled,\n",
              "  .colab-df-quickchart-complete:disabled:hover {\n",
              "    background-color: var(--disabled-bg-color);\n",
              "    fill: var(--disabled-fill-color);\n",
              "    box-shadow: none;\n",
              "  }\n",
              "\n",
              "  .colab-df-spinner {\n",
              "    border: 2px solid var(--fill-color);\n",
              "    border-color: transparent;\n",
              "    border-bottom-color: var(--fill-color);\n",
              "    animation:\n",
              "      spin 1s steps(1) infinite;\n",
              "  }\n",
              "\n",
              "  @keyframes spin {\n",
              "    0% {\n",
              "      border-color: transparent;\n",
              "      border-bottom-color: var(--fill-color);\n",
              "      border-left-color: var(--fill-color);\n",
              "    }\n",
              "    20% {\n",
              "      border-color: transparent;\n",
              "      border-left-color: var(--fill-color);\n",
              "      border-top-color: var(--fill-color);\n",
              "    }\n",
              "    30% {\n",
              "      border-color: transparent;\n",
              "      border-left-color: var(--fill-color);\n",
              "      border-top-color: var(--fill-color);\n",
              "      border-right-color: var(--fill-color);\n",
              "    }\n",
              "    40% {\n",
              "      border-color: transparent;\n",
              "      border-right-color: var(--fill-color);\n",
              "      border-top-color: var(--fill-color);\n",
              "    }\n",
              "    60% {\n",
              "      border-color: transparent;\n",
              "      border-right-color: var(--fill-color);\n",
              "    }\n",
              "    80% {\n",
              "      border-color: transparent;\n",
              "      border-right-color: var(--fill-color);\n",
              "      border-bottom-color: var(--fill-color);\n",
              "    }\n",
              "    90% {\n",
              "      border-color: transparent;\n",
              "      border-bottom-color: var(--fill-color);\n",
              "    }\n",
              "  }\n",
              "</style>\n",
              "\n",
              "  <script>\n",
              "    async function quickchart(key) {\n",
              "      const quickchartButtonEl =\n",
              "        document.querySelector('#' + key + ' button');\n",
              "      quickchartButtonEl.disabled = true;  // To prevent multiple clicks.\n",
              "      quickchartButtonEl.classList.add('colab-df-spinner');\n",
              "      try {\n",
              "        const charts = await google.colab.kernel.invokeFunction(\n",
              "            'suggestCharts', [key], {});\n",
              "      } catch (error) {\n",
              "        console.error('Error during call to suggestCharts:', error);\n",
              "      }\n",
              "      quickchartButtonEl.classList.remove('colab-df-spinner');\n",
              "      quickchartButtonEl.classList.add('colab-df-quickchart-complete');\n",
              "    }\n",
              "    (() => {\n",
              "      let quickchartButtonEl =\n",
              "        document.querySelector('#df-1f0ba21a-a69d-4660-ad36-71cd8136d8a7 button');\n",
              "      quickchartButtonEl.style.display =\n",
              "        google.colab.kernel.accessAllowed ? 'block' : 'none';\n",
              "    })();\n",
              "  </script>\n",
              "</div>\n",
              "    </div>\n",
              "  </div>\n"
            ],
            "application/vnd.google.colaboratory.intrinsic+json": {
              "type": "dataframe"
            }
          },
          "metadata": {},
          "execution_count": 465
        }
      ]
    },
    {
      "cell_type": "code",
      "source": [
        "import pandas as pd\n",
        "import matplotlib.pyplot as plt\n",
        "import seaborn as sns\n",
        "\n",
        "# Assuming 'data' is your DataFrame and it's already loaded and cleaned\n",
        "# Replace 'your_dataframe' with the variable name of your actual DataFrame\n",
        "#data = your_dataframe\n",
        "\n",
        "# Define the names of the columns that hold the Net Written Premium and Net Combined Ratio data\n",
        "# Replace 'NWP_column_name' and 'NCR_column_name' with the actual column names\n",
        "nwp_column_name = 'NWP_(£m)_2020YE'\n",
        "ncr_column_name = 'Net_combined_ratio_2020YE'\n",
        "\n",
        "# Create a new column to identify outliers. Adjust the condition as needed.\n",
        "# For example, here we're considering any firm with NCR greater than 1000 to be an outlier.\n",
        "data['Outlier'] = data[ncr_column_name] > 1000\n",
        "\n",
        "# Create the scatter plot\n",
        "plt.figure(figsize=(10, 6))\n",
        "sns.scatterplot(data=data, x=nwp_column_name, y=ncr_column_name, hue='Outlier', style='Outlier')\n",
        "\n",
        "# Adjust the plot title and axis labels as needed\n",
        "plt.title('Net Combined Ratio vs. Net Written Premium (2020)')\n",
        "plt.xlabel('Net Written Premium (in millions)')\n",
        "plt.ylabel('Net Combined Ratio')\n",
        "\n",
        "# Show the plot\n",
        "plt.show()\n"
      ],
      "metadata": {
        "colab": {
          "base_uri": "https://localhost:8080/",
          "height": 564
        },
        "id": "Q2exdEZEPv0t",
        "outputId": "9436a070-771d-481a-f829-a0f53ce51a6c"
      },
      "execution_count": 466,
      "outputs": [
        {
          "output_type": "display_data",
          "data": {
            "text/plain": [
              "<Figure size 1000x600 with 1 Axes>"
            ],
            "image/png": "[encoded data removed]"
          },
          "metadata": {}
        }
      ]
    },
    {
      "cell_type": "markdown",
      "source": [
        "The graph provided is a scatter plot comparing the Net Combined Ratio (NCR) against the Net Written Premium (NWP) for the year 2020. It also indicates outliers in the data, differentiated by color and marker style. Here's the analysis of the graph:\n",
        "\n",
        "1. **X-Axis (Net Written Premium)**: The x-axis represents the NWP in millions, which is a key indicator of the size of the insurance firms in terms of their premium revenue.\n",
        "\n",
        "2. **Y-Axis (Net Combined Ratio)**: The y-axis shows the NCR, a measure of an insurance company's profitability from underwriting activity. A ratio below 100% indicates that the firm is making an underwriting profit, while a ratio above 100% means it's paying out more in claims and expenses than it's receiving from premiums.\n",
        "\n",
        "3. **Data Points**:\n",
        "   - The majority of firms are clustered towards the left of the plot with NCRs close to or below 0, suggesting that many firms have a low NWP and are either profitable or break-even in their underwriting business.\n",
        "   - There is one firm far to the right with a significantly higher NWP than the rest, implying it is a very large firm by premium volume. Its NCR is just below 0, indicating it is profitable.\n",
        "\n",
        "4. **Outliers**:\n",
        "   - Outliers are marked with an \"X\" and are color-coded differently from the rest of the points (non-outliers).\n",
        "   - There is one notable outlier with an NCR above 2000, which is extremely high and suggests this firm is highly unprofitable from an underwriting perspective. This requires immediate attention to understand the reasons behind such a high NCR.\n",
        "   - Another outlier is visible at the bottom of the graph with an NCR below -1000. This is unusually low and could indicate data entry errors, extreme profitability, or an unusual event that warrants further investigation.\n",
        "\n",
        "5. **Interpretation**:\n",
        "   - Most firms seem to operate with a profitable or break-even underwriting margin.\n",
        "   - The firm with the largest NWP is profitable, which might suggest efficient operations or a successful business strategy.\n",
        "   - The extreme outliers in NCR could indicate potential issues with data quality or underlying business operations that are significantly different from the industry norms. These cases should be analyzed in more detail to understand their financial situation.\n",
        "\n",
        " The above  plot is a visualization tool to quickly identify which firms are outliers in terms of their underwriting profitability relative to their size. This can guide further analysis and decision-making, particularly for firms that deviate significantly from the rest."
      ],
      "metadata": {
        "id": "vC38v-bVQhuV"
      }
    },
    {
      "cell_type": "code",
      "source": [
        "## Exploratory Data Analysis (EDA) for combined data"
      ],
      "metadata": {
        "id": "oYdv3PMDIzuO"
      },
      "execution_count": null,
      "outputs": []
    },
    {
      "cell_type": "code",
      "source": [
        "# Exploratory Data Analysis (EDA) for combined data\n",
        "print(\"Summary statistics:\")\n",
        "print(data.describe())"
      ],
      "metadata": {
        "colab": {
          "base_uri": "https://localhost:8080/"
        },
        "id": "CpA3j_qJAz9t",
        "outputId": "eb0db4f7-dfec-4b4d-dca9-a4734e082c40"
      },
      "execution_count": 467,
      "outputs": [
        {
          "output_type": "stream",
          "name": "stdout",
          "text": [
            "Summary statistics:\n",
            "       NWP_(£m)_2016YE  NWP_(£m)_2017YE  NWP_(£m)_2018YE  NWP_(£m)_2019YE  \\\n",
            "count       325.000000       325.000000       325.000000       325.000000   \n",
            "mean        748.880615       754.091877       734.934369       636.330523   \n",
            "std        5366.722325      3415.153931      3212.938116      2566.231499   \n",
            "min      -17754.100000     -2061.020000      -368.820000      -184.090000   \n",
            "25%           0.000000         0.000000         0.000000         0.000000   \n",
            "50%           1.700000         7.340000         6.580000         3.790000   \n",
            "75%          71.610000       143.290000       118.620000        87.000000   \n",
            "max       75526.670000     41072.820000     41591.400000     25473.310000   \n",
            "\n",
            "       NWP_(£m)_2020YE  SCR_(£m)_2016YE  SCR_(£m)_2017YE  SCR_(£m)_2018YE  \\\n",
            "count       325.000000       325.000000       325.000000       325.000000   \n",
            "mean        784.543354       361.336646       413.189969       284.795600   \n",
            "std        4644.720739      1556.589894      1685.711128      1066.707521   \n",
            "min       -2054.550000         0.000000         0.000000         0.000000   \n",
            "25%           0.000000         2.140000         1.460000         1.120000   \n",
            "50%           0.650000        17.070000        13.910000        13.220000   \n",
            "75%          58.910000       111.590000        93.420000        93.090000   \n",
            "max       60699.950000     18258.890000     17563.270000     10797.120000   \n",
            "\n",
            "       SCR_(£m)_2019YE  SCR_(£m)_2020YE  ...  Gross_expense_ratio_2016YE  \\\n",
            "count       325.000000       325.000000  ...                  456.000000   \n",
            "mean        324.383446       349.470308  ...                   -0.047332   \n",
            "std        1713.126687      1734.578030  ...                   22.586744   \n",
            "min           0.000000         0.000000  ...                 -180.695307   \n",
            "25%           0.610000         0.000000  ...                    0.000000   \n",
            "50%           9.210000         6.070000  ...                    0.008070   \n",
            "75%          81.240000        70.580000  ...                    0.322910   \n",
            "max       22788.360000     18335.570000  ...                  316.024679   \n",
            "\n",
            "       Gross_expense_ratio_2017YE  Gross_expense_ratio_2018YE  \\\n",
            "count                  456.000000                  456.000000   \n",
            "mean                   -26.278279                   14.437874   \n",
            "std                    765.485279                  295.835366   \n",
            "min                 -16112.406620                   -0.476109   \n",
            "25%                      0.000000                    0.000000   \n",
            "50%                      0.056674                    0.098384   \n",
            "75%                      0.357971                    0.385045   \n",
            "max                   2587.034477                 6317.468135   \n",
            "\n",
            "       Gross_expense_ratio_2019YE  Gross_expense_ratio_2020YE  \\\n",
            "count                  456.000000                  456.000000   \n",
            "mean                  1241.807503                    6.149997   \n",
            "std                  26934.606110                   74.244405   \n",
            "min                  -9671.516722                   -1.014490   \n",
            "25%                      0.000000                    0.000000   \n",
            "50%                      0.031295                    0.017048   \n",
            "75%                      0.290778                    0.351256   \n",
            "max                 575064.787000                 1310.176452   \n",
            "\n",
            "       Gross_combined_ratio_2016YE  Gross_combined_ratio_2017YE  \\\n",
            "count                   456.000000                   456.000000   \n",
            "mean                      0.768918                     8.516436   \n",
            "std                      31.730483                   175.460831   \n",
            "min                    -540.896015                 -2354.862219   \n",
            "25%                       0.000000                     0.000000   \n",
            "50%                       0.017881                     0.188831   \n",
            "75%                       0.882550                     1.088327   \n",
            "max                     297.648235                  1577.909736   \n",
            "\n",
            "       Gross_combined_ratio_2018YE  Gross_combined_ratio_2019YE  \\\n",
            "count                   456.000000                 4.560000e+02   \n",
            "mean                     35.984397                 8.690197e+03   \n",
            "std                     750.493802                 1.863022e+05   \n",
            "min                    -210.458456                -1.406448e+04   \n",
            "25%                       0.000000                 0.000000e+00   \n",
            "50%                       0.152646                 1.000508e-01   \n",
            "75%                       0.995781                 8.729578e-01   \n",
            "max                   16023.609300                 3.978266e+06   \n",
            "\n",
            "       Gross_combined_ratio_2020YE  \n",
            "count                   456.000000  \n",
            "mean                    -12.059155  \n",
            "std                     585.063968  \n",
            "min                  -12033.441220  \n",
            "25%                       0.000000  \n",
            "50%                       0.036547  \n",
            "75%                       0.981006  \n",
            "max                    2442.469233  \n",
            "\n",
            "[8 rows x 85 columns]\n"
          ]
        }
      ]
    },
    {
      "cell_type": "code",
      "source": [
        "print(\"Dataset shape:\")\n",
        "print(data.shape)\n"
      ],
      "metadata": {
        "colab": {
          "base_uri": "https://localhost:8080/"
        },
        "id": "hU-XkkIHAz_d",
        "outputId": "f3f9c4f4-391d-4a0e-8518-e1c4fa2ad25c"
      },
      "execution_count": 468,
      "outputs": [
        {
          "output_type": "stream",
          "name": "stdout",
          "text": [
            "Dataset shape:\n",
            "(456, 87)\n"
          ]
        }
      ]
    },
    {
      "cell_type": "code",
      "source": [
        "print(\"\\nData types:\")\n",
        "print(data.dtypes)"
      ],
      "metadata": {
        "colab": {
          "base_uri": "https://localhost:8080/"
        },
        "id": "0u4o5LeNA0Ax",
        "outputId": "7bead5d2-0b95-453f-e94d-c077c2fe3c74"
      },
      "execution_count": 469,
      "outputs": [
        {
          "output_type": "stream",
          "name": "stdout",
          "text": [
            "\n",
            "Data types:\n",
            "NWP_(£m)_2016YE                float64\n",
            "NWP_(£m)_2017YE                float64\n",
            "NWP_(£m)_2018YE                float64\n",
            "NWP_(£m)_2019YE                float64\n",
            "NWP_(£m)_2020YE                float64\n",
            "                                ...   \n",
            "Gross_combined_ratio_2017YE    float64\n",
            "Gross_combined_ratio_2018YE    float64\n",
            "Gross_combined_ratio_2019YE    float64\n",
            "Gross_combined_ratio_2020YE    float64\n",
            "Outlier                           bool\n",
            "Length: 87, dtype: object\n"
          ]
        }
      ]
    },
    {
      "cell_type": "code",
      "source": [
        "# Handle missing values and inconsistencies\n",
        "data = data.replace('#########', np.nan)  # Replace '#########' with NaN"
      ],
      "metadata": {
        "id": "aMmOHSdXA0CV"
      },
      "execution_count": 470,
      "outputs": []
    },
    {
      "cell_type": "code",
      "source": [
        "# Handle categorical values using LabelEncoder\n",
        "categorical_columns = data.select_dtypes(include=['object']).columns\n",
        "label_encoder = LabelEncoder()\n",
        "for column in categorical_columns:\n",
        "    data[column] = label_encoder.fit_transform(data[column])"
      ],
      "metadata": {
        "id": "notk1Zv8CK1v"
      },
      "execution_count": 471,
      "outputs": []
    },
    {
      "cell_type": "code",
      "source": [
        "# Handle missing values using SimpleImputer\n",
        "imputer = SimpleImputer(strategy='mean')\n",
        "data_imputed = pd.DataFrame(imputer.fit_transform(data), columns=data.columns)\n",
        "data = data_imputed"
      ],
      "metadata": {
        "id": "rF5ShG_sCK9q"
      },
      "execution_count": 472,
      "outputs": []
    },
    {
      "cell_type": "code",
      "source": [],
      "metadata": {
        "id": "zMzDABzUMBK-"
      },
      "execution_count": null,
      "outputs": []
    },
    {
      "cell_type": "code",
      "source": [
        "print(\"\\nMissing values:\")\n",
        "print(data.isnull().sum())"
      ],
      "metadata": {
        "colab": {
          "base_uri": "https://localhost:8080/"
        },
        "id": "Ko50Lg39CK__",
        "outputId": "2cb9e152-d83e-4738-da37-44b8e3feaa31"
      },
      "execution_count": 473,
      "outputs": [
        {
          "output_type": "stream",
          "name": "stdout",
          "text": [
            "\n",
            "Missing values:\n",
            "NWP_(£m)_2016YE                0\n",
            "NWP_(£m)_2017YE                0\n",
            "NWP_(£m)_2018YE                0\n",
            "NWP_(£m)_2019YE                0\n",
            "NWP_(£m)_2020YE                0\n",
            "                              ..\n",
            "Gross_combined_ratio_2017YE    0\n",
            "Gross_combined_ratio_2018YE    0\n",
            "Gross_combined_ratio_2019YE    0\n",
            "Gross_combined_ratio_2020YE    0\n",
            "Outlier                        0\n",
            "Length: 87, dtype: int64\n"
          ]
        }
      ]
    },
    {
      "cell_type": "code",
      "source": [
        "data = data.drop_duplicates()  # Remove duplicate rows"
      ],
      "metadata": {
        "id": "BZDXR3EbCLCg"
      },
      "execution_count": 474,
      "outputs": []
    },
    {
      "cell_type": "code",
      "source": [
        "# Define the columns for the latest year (2020)\n",
        "gwp_column = 'GWP_(£m)_2020YE'\n",
        "nwp_column_2020 = 'NWP_(£m)_2020YE'\n",
        "nwp_column_2019 = 'NWP_(£m)_2019YE'\n",
        "scr_column = 'SCR_coverage_ratio_2020YE'\n",
        "gross_claims_column = 'Gross_claims_incurred_(£m)_2020YE'\n",
        "net_combined_ratio_column = 'Net_combined_ratio_2020YE'"
      ],
      "metadata": {
        "id": "G0bBCBO0A0n2"
      },
      "execution_count": 475,
      "outputs": []
    },
    {
      "cell_type": "code",
      "source": [
        "# Identify firms with the largest Gross Written Premium (GWP)\n",
        "largest_gwp_firms = data.nlargest(5, gwp_column)\n",
        "print(\"Firms with the largest Gross Written Premium (GWP) in 2020:\")\n",
        "print(largest_gwp_firms[['Firm', gwp_column]])"
      ],
      "metadata": {
        "colab": {
          "base_uri": "https://localhost:8080/"
        },
        "id": "LKgFnuICA0qA",
        "outputId": "6eaad4a8-ce85-4f8f-d640-cb5eef94da22"
      },
      "execution_count": 476,
      "outputs": [
        {
          "output_type": "stream",
          "name": "stdout",
          "text": [
            "Firms with the largest Gross Written Premium (GWP) in 2020:\n",
            "      Firm  GWP_(£m)_2020YE\n",
            "209  124.0         69697.93\n",
            "3    333.0         37761.88\n",
            "310  236.0         24251.48\n",
            "33   267.0         19274.96\n",
            "6    423.0         16183.57\n"
          ]
        }
      ]
    },
    {
      "cell_type": "code",
      "source": [
        "\n",
        "# Identify firms with the most significant year-over-year change in Net Written Premium (NWP)\n",
        "data['NWP_Change'] = data[nwp_column_2020] - data[nwp_column_2019]\n",
        "largest_nwp_change_firms = data.nlargest(5, 'NWP_Change')\n",
        "print(\"\\nFirms with the most significant year-over-year change in Net Written Premium (NWP) from 2019 to 2020:\")\n",
        "print(largest_nwp_change_firms[['Firm', nwp_column_2019, nwp_column_2020, 'NWP_Change']])\n",
        "\n"
      ],
      "metadata": {
        "colab": {
          "base_uri": "https://localhost:8080/"
        },
        "id": "_NwNPjvlC3mi",
        "outputId": "b81b6ded-b4f7-4168-b0a3-9610f6d223c1"
      },
      "execution_count": 477,
      "outputs": [
        {
          "output_type": "stream",
          "name": "stdout",
          "text": [
            "\n",
            "Firms with the most significant year-over-year change in Net Written Premium (NWP) from 2019 to 2020:\n",
            "      Firm  NWP_(£m)_2019YE  NWP_(£m)_2020YE  NWP_Change\n",
            "209  124.0         25473.31         60699.95    35226.64\n",
            "3    333.0         14719.67         49204.47    34484.80\n",
            "310  236.0           381.20         14566.28    14185.08\n",
            "198  110.0          3395.03         13133.46     9738.43\n",
            "25   178.0          6683.96         16395.67     9711.71\n"
          ]
        }
      ]
    },
    {
      "cell_type": "code",
      "source": [
        "# Identify firms with the lowest SCR coverage ratio\n",
        "lowest_scr_firms = data.nsmallest(5, scr_column)\n",
        "print(\"\\nFirms with the lowest SCR coverage ratio in 2020:\")\n",
        "print(lowest_scr_firms[['Firm', scr_column]])"
      ],
      "metadata": {
        "colab": {
          "base_uri": "https://localhost:8080/"
        },
        "id": "i9tWS5H-C3ok",
        "outputId": "12d49d3d-06c9-4b30-e828-0b9648e94185"
      },
      "execution_count": 478,
      "outputs": [
        {
          "output_type": "stream",
          "name": "stdout",
          "text": [
            "\n",
            "Firms with the lowest SCR coverage ratio in 2020:\n",
            "      Firm  SCR_coverage_ratio_2020YE\n",
            "108   11.0                      -0.72\n",
            "140   47.0                      -0.30\n",
            "0      0.0                       0.00\n",
            "7    434.0                       0.00\n",
            "10    12.0                       0.00\n"
          ]
        }
      ]
    },
    {
      "cell_type": "code",
      "source": [
        "# Identify firms with the highest gross claims incurred\n",
        "highest_gross_claims_firms = data.nlargest(5, gross_claims_column)\n",
        "print(\"\\nFirms with the highest gross claims incurred in 2020:\")\n",
        "print(highest_gross_claims_firms[['Firm', gross_claims_column]])\n"
      ],
      "metadata": {
        "colab": {
          "base_uri": "https://localhost:8080/"
        },
        "id": "4P2ZpjlOC3q3",
        "outputId": "b78bb164-1421-4873-d31c-87d70017e205"
      },
      "execution_count": 479,
      "outputs": [
        {
          "output_type": "stream",
          "name": "stdout",
          "text": [
            "\n",
            "Firms with the highest gross claims incurred in 2020:\n",
            "      Firm  Gross_claims_incurred_(£m)_2020YE\n",
            "282  204.0                        2730.730064\n",
            "111   15.0                        2296.659215\n",
            "157   65.0                        2214.251988\n",
            "426  364.0                        2047.025858\n",
            "386  319.0                        1790.621244\n"
          ]
        }
      ]
    },
    {
      "cell_type": "code",
      "source": [
        "# Identify firms with the highest net combined ratio\n",
        "highest_net_combined_ratio_firms = data.nlargest(5, net_combined_ratio_column)\n",
        "print(\"\\nFirms with the highest net combined ratio in 2020:\")\n",
        "print(highest_net_combined_ratio_firms[['Firm', net_combined_ratio_column]])"
      ],
      "metadata": {
        "colab": {
          "base_uri": "https://localhost:8080/"
        },
        "id": "ttaLb1OvC3s7",
        "outputId": "0e00ed46-2f3c-4f96-8469-1d6b0c6c0a99"
      },
      "execution_count": 480,
      "outputs": [
        {
          "output_type": "stream",
          "name": "stdout",
          "text": [
            "\n",
            "Firms with the highest net combined ratio in 2020:\n",
            "      Firm  Net_combined_ratio_2020YE\n",
            "227  143.0                1642.927280\n",
            "283  205.0                1630.065399\n",
            "165   74.0                1222.879483\n",
            "448  388.0                  59.717627\n",
            "71   426.0                  15.857819\n"
          ]
        }
      ]
    },
    {
      "cell_type": "code",
      "source": [
        "# Visualize the distribution of Gross Written Premium (GWP)\n",
        "plt.figure(figsize=(10, 6))\n",
        "sns.histplot(data[gwp_column], kde=True)\n",
        "plt.title('Distribution of Gross Written Premium (GWP) in 2020')\n",
        "plt.xlabel('GWP (£m)')\n",
        "plt.ylabel('Count')\n",
        "plt.show()"
      ],
      "metadata": {
        "colab": {
          "base_uri": "https://localhost:8080/",
          "height": 564
        },
        "id": "3g74CgJOA0sQ",
        "outputId": "400d40cd-f95f-4cfb-e7cc-9cf905c56a57"
      },
      "execution_count": 481,
      "outputs": [
        {
          "output_type": "display_data",
          "data": {
            "text/plain": [
              "<Figure size 1000x600 with 1 Axes>"
            ],
            "image/png": "[encoded data removed]"
          },
          "metadata": {}
        }
      ]
    },
    {
      "cell_type": "code",
      "source": [
        "# Visualize the relationship between Net Written Premium (NWP) and SCR coverage ratio\n",
        "plt.figure(figsize=(10, 6))\n",
        "sns.scatterplot(x=nwp_column_2020, y=scr_column, data=data)\n",
        "plt.title('Net Written Premium (NWP) vs SCR Coverage Ratio in 2020')\n",
        "plt.xlabel('NWP (£m)')\n",
        "plt.ylabel('SCR Coverage Ratio')\n",
        "plt.show()"
      ],
      "metadata": {
        "colab": {
          "base_uri": "https://localhost:8080/",
          "height": 564
        },
        "id": "L-6R-B98DQE5",
        "outputId": "5013097a-a7d0-4d88-f488-6bafc1341976"
      },
      "execution_count": 482,
      "outputs": [
        {
          "output_type": "display_data",
          "data": {
            "text/plain": [
              "<Figure size 1000x600 with 1 Axes>"
            ],
            "image/png": "[encoded data removed]"
          },
          "metadata": {}
        }
      ]
    },
    {
      "cell_type": "code",
      "source": [
        "# Visualize the top 10 firms with the highest gross claims incurred\n",
        "top_gross_claims_firms = data.nlargest(10, gross_claims_column)\n",
        "plt.figure(figsize=(12, 6))\n",
        "sns.barplot(x='Firm', y=gross_claims_column, data=top_gross_claims_firms)\n",
        "plt.title('Top 10 Firms with the Highest Gross Claims Incurred in 2020')\n",
        "plt.xlabel('Firm')\n",
        "plt.ylabel('Gross Claims Incurred (£m)')\n",
        "plt.xticks(rotation=45)\n",
        "plt.show()"
      ],
      "metadata": {
        "colab": {
          "base_uri": "https://localhost:8080/",
          "height": 588
        },
        "id": "-es2Tud6DQGx",
        "outputId": "d33858f3-82bd-4c02-fe8b-44f98cb0fea7"
      },
      "execution_count": 483,
      "outputs": [
        {
          "output_type": "display_data",
          "data": {
            "text/plain": [
              "<Figure size 1200x600 with 1 Axes>"
            ],
            "image/png": "[encoded data removed]"
          },
          "metadata": {}
        }
      ]
    },
    {
      "cell_type": "code",
      "source": [
        "# Identify and address outliers and potential errors in reporting\n",
        "def identify_outliers(column):\n",
        "    Q1 = data[column].quantile(0.25)\n",
        "    Q3 = data[column].quantile(0.75)\n",
        "    IQR = Q3 - Q1\n",
        "    lower_bound = Q1 - 1.5 * IQR\n",
        "    upper_bound = Q3 + 1.5 * IQR\n",
        "    return data[(data[column] < lower_bound) | (data[column] > upper_bound)]"
      ],
      "metadata": {
        "id": "-5kl3JVMDQIx"
      },
      "execution_count": 484,
      "outputs": []
    },
    {
      "cell_type": "code",
      "source": [
        "gwp_column = 'GWP_(£m)_2020YE'\n",
        "outliers = identify_outliers(gwp_column)\n",
        "print(f\"Outliers based on {gwp_column}:\")\n",
        "print(outliers)"
      ],
      "metadata": {
        "colab": {
          "base_uri": "https://localhost:8080/"
        },
        "id": "_H7WqZapDQKz",
        "outputId": "34c62474-3684-4633-ef77-d0ee27da2fb5"
      },
      "execution_count": 485,
      "outputs": [
        {
          "output_type": "stream",
          "name": "stdout",
          "text": [
            "Outliers based on GWP_(£m)_2020YE:\n",
            "     NWP_(£m)_2016YE  NWP_(£m)_2017YE  NWP_(£m)_2018YE  NWP_(£m)_2019YE  \\\n",
            "3           19677.45         41072.82         20885.51         14719.67   \n",
            "5            3091.39          3357.93          3215.47            53.22   \n",
            "6            3148.48          3307.13           713.85         18232.38   \n",
            "18              0.00             0.00             0.00          2006.29   \n",
            "22            982.26           634.61          2043.25          5085.70   \n",
            "24           9622.28          2356.63          1227.71          7134.65   \n",
            "25          75526.67          2187.59         11251.35          6683.96   \n",
            "29            198.46          5260.73          9063.12          6124.60   \n",
            "33          10135.26          3630.29          3530.84          -184.09   \n",
            "50              0.00           427.49          3812.03          5655.16   \n",
            "72           8118.73           880.74          6813.49         11752.06   \n",
            "79            224.59           105.67          1744.48           924.91   \n",
            "103            12.74            63.77         18870.46          1697.62   \n",
            "104         41465.11         18539.93           -11.98         21335.96   \n",
            "150         -1578.07         10665.12         12231.91          7970.54   \n",
            "198             1.22         10050.60         11509.51          3395.03   \n",
            "209         30031.05         19261.41         41591.40         25473.31   \n",
            "233          3700.80          5344.31          1155.11          3998.98   \n",
            "246          2489.22         25897.34          6237.27          6512.23   \n",
            "275             0.00          9897.77          2565.77          1179.99   \n",
            "300         -1123.89           325.97           615.72          1962.98   \n",
            "310           -15.16         14897.66         12734.77           381.20   \n",
            "316          1635.74          4105.05          4838.90          4451.74   \n",
            "\n",
            "     NWP_(£m)_2020YE  SCR_(£m)_2016YE  SCR_(£m)_2017YE  SCR_(£m)_2018YE  \\\n",
            "3           49204.47         15975.65         15367.89         10797.12   \n",
            "5            5969.71          5127.37          5252.81          5460.80   \n",
            "6            6486.66          3352.50          2155.20          4246.24   \n",
            "18            326.55             0.00             0.00             0.89   \n",
            "22           1626.62             4.19             5.05            11.31   \n",
            "24           9765.61            11.95            10.59             2.20   \n",
            "25          16395.67          4282.79          3852.00          1061.57   \n",
            "29           3396.24          2801.42          3545.73          3476.43   \n",
            "33           6105.50          8785.96          3011.61          5924.16   \n",
            "50           3789.88             9.38            12.51             8.73   \n",
            "72           4073.35          2801.48          2877.73           114.35   \n",
            "79           3198.45             8.10            93.24           198.83   \n",
            "103          6174.58             2.62             0.01             3.09   \n",
            "104          2612.55         18258.89         17563.27          4194.66   \n",
            "150          5554.25           777.62          1636.95           335.46   \n",
            "198         13133.46          1758.63          4068.12           565.33   \n",
            "209         60699.95           381.75           236.78           270.24   \n",
            "233          1569.10          2540.58          3375.31          2125.73   \n",
            "246           191.59            76.52            56.92            18.73   \n",
            "275          3073.77           131.03           310.56            89.45   \n",
            "300          4643.04           868.37           824.94           330.95   \n",
            "310         14566.28          2394.75         12441.32          6189.59   \n",
            "316          3479.29            57.94           221.53            99.39   \n",
            "\n",
            "     SCR_(£m)_2019YE  SCR_(£m)_2020YE  ...  Gross_expense_ratio_2018YE  \\\n",
            "3           22788.36         16090.31  ...                    0.054150   \n",
            "5            4581.92          3102.99  ...                    0.239576   \n",
            "6            7597.76          3105.99  ...                    0.000000   \n",
            "18            431.39          2100.13  ...                    0.572008   \n",
            "22              3.88            12.84  ...                    0.000000   \n",
            "24              1.77             0.23  ...                    0.747789   \n",
            "25             98.03          2960.78  ...                    0.584427   \n",
            "29           1392.06          3729.85  ...                    0.829085   \n",
            "33           3884.82          2971.06  ...                    1.068645   \n",
            "50              3.95             4.48  ...                    0.000000   \n",
            "72           1482.49          4919.31  ...                    0.147555   \n",
            "79            249.46           256.34  ...                    0.015245   \n",
            "103            12.81             3.68  ...                    0.000000   \n",
            "104         16716.95         18335.57  ...                    0.228483   \n",
            "150          1468.62           478.90  ...                    0.616229   \n",
            "198          1934.74          2918.79  ...                    0.060794   \n",
            "209           345.81            11.64  ...                    0.384633   \n",
            "233          2635.94           685.18  ...                    0.105111   \n",
            "246             1.02            12.82  ...                    0.439227   \n",
            "275           150.30           263.17  ...                    0.000000   \n",
            "300          1427.31          1894.03  ...                    0.000000   \n",
            "310           641.42         16323.54  ...                    0.470995   \n",
            "316           131.90            26.39  ...                    0.042752   \n",
            "\n",
            "     Gross_expense_ratio_2019YE  Gross_expense_ratio_2020YE  \\\n",
            "3                      0.051848                   -0.162883   \n",
            "5                      0.261323                    0.065710   \n",
            "6                      0.000000                    0.000000   \n",
            "18                     0.207761                    0.526824   \n",
            "22                     0.000000                    0.000000   \n",
            "24                     0.000000                    0.000000   \n",
            "25                     0.333017                    0.411128   \n",
            "29                     0.000000                    0.000000   \n",
            "33                     0.913817                    0.030353   \n",
            "50                     0.000000                    0.000000   \n",
            "72                     0.289675                    0.491820   \n",
            "79                     0.048912                    0.081815   \n",
            "103                    0.000000                    0.000000   \n",
            "104                    0.549208                    0.311819   \n",
            "150                    0.545959                    0.475717   \n",
            "198                    0.087385                    0.035470   \n",
            "209                    0.157922                    0.216404   \n",
            "233                    0.037389                    0.350771   \n",
            "246                    0.152939                    0.491021   \n",
            "275                    0.000000                    0.000000   \n",
            "300                    0.000000                    0.000000   \n",
            "310                    0.130499                    0.312233   \n",
            "316                    0.097238                    0.060318   \n",
            "\n",
            "     Gross_combined_ratio_2016YE  Gross_combined_ratio_2017YE  \\\n",
            "3                       1.047234                     0.476384   \n",
            "5                       0.650369                     0.904271   \n",
            "6                       0.000000                     0.000000   \n",
            "18                      1.514475                     0.543055   \n",
            "22                      0.000000                     0.000000   \n",
            "24                      0.874980                     1.080769   \n",
            "25                      1.639587                     0.733022   \n",
            "29                      0.342532                    22.799331   \n",
            "33                      0.000000                     0.930897   \n",
            "50                     -0.536358                   -50.991523   \n",
            "72                      0.000000                     0.000000   \n",
            "79                      1.035089                     0.786135   \n",
            "103                     0.273447                     0.000000   \n",
            "104                     1.444053                     0.340131   \n",
            "150                    -0.496272                    -0.276755   \n",
            "198                     2.702875                     2.724142   \n",
            "209                     1.607224                     1.548505   \n",
            "233                     0.095618                     0.124333   \n",
            "246                     0.235978                     0.509785   \n",
            "275                     0.000000                     0.000000   \n",
            "300                     0.000000                     0.000000   \n",
            "310                     0.000000                     0.000000   \n",
            "316                     0.262281                     0.077431   \n",
            "\n",
            "     Gross_combined_ratio_2018YE  Gross_combined_ratio_2019YE  \\\n",
            "3                       3.307379                     1.247403   \n",
            "5                       0.147146                     0.351034   \n",
            "6                       0.000000                     0.000000   \n",
            "18                      1.321924                     1.931921   \n",
            "22                      0.000000                     0.000000   \n",
            "24                      1.187106                     0.000000   \n",
            "25                      0.253679                     0.143545   \n",
            "29                     11.911513                     0.000000   \n",
            "33                      1.983448                     0.327643   \n",
            "50                      0.000000                     0.000000   \n",
            "72                      0.846490                     0.658037   \n",
            "79                      1.839281                     1.202698   \n",
            "103                     0.000000                     0.000000   \n",
            "104                     1.647887                     0.443959   \n",
            "150                    -6.226915                    -0.805354   \n",
            "198                     0.045757                     1.443435   \n",
            "209                     1.759389                     0.282968   \n",
            "233                     1.494161                     0.338396   \n",
            "246                     0.020226                     0.275845   \n",
            "275                     0.000000                     0.000000   \n",
            "300                     0.000000                     0.000000   \n",
            "310                     1.115284                     0.735252   \n",
            "316                     1.742934                     0.519823   \n",
            "\n",
            "     Gross_combined_ratio_2020YE  Outlier  NWP_Change  \n",
            "3                      -2.303093      0.0    34484.80  \n",
            "5                       0.687860      0.0     5916.49  \n",
            "6                       0.000000      0.0   -11745.72  \n",
            "18                      0.802708      0.0    -1679.74  \n",
            "22                      0.000000      0.0    -3459.08  \n",
            "24                      0.000000      0.0     2630.96  \n",
            "25                      1.031633      0.0     9711.71  \n",
            "29                      0.000000      0.0    -2728.36  \n",
            "33                      2.187807      0.0     6289.59  \n",
            "50                      0.000000      0.0    -1865.28  \n",
            "72                      1.773573      0.0    -7678.71  \n",
            "79                      1.490072      0.0     2273.54  \n",
            "103                     0.000000      0.0     4476.96  \n",
            "104                     0.983198      0.0   -18723.41  \n",
            "150                     0.019297      0.0    -2416.29  \n",
            "198                     0.944690      0.0     9738.43  \n",
            "209                     0.975301      0.0    35226.64  \n",
            "233                     1.671975      0.0    -2429.88  \n",
            "246                     0.728247      0.0    -6320.64  \n",
            "275                     0.000000      0.0     1893.78  \n",
            "300                     0.000000      0.0     2680.06  \n",
            "310                     0.459989      0.0    14185.08  \n",
            "316                     0.512366      0.0     -972.45  \n",
            "\n",
            "[23 rows x 88 columns]\n"
          ]
        }
      ]
    },
    {
      "cell_type": "code",
      "source": [],
      "metadata": {
        "id": "f9WefYGpA0xV"
      },
      "execution_count": null,
      "outputs": []
    },
    {
      "cell_type": "code",
      "source": [],
      "metadata": {
        "id": "oyu0OBOzJU9e"
      },
      "execution_count": null,
      "outputs": []
    },
    {
      "cell_type": "code",
      "source": [
        "########################## TASK - 1 ##################################"
      ],
      "metadata": {
        "id": "ATryoi78A0yw"
      },
      "execution_count": null,
      "outputs": []
    },
    {
      "cell_type": "code",
      "source": [
        "# Assuming that we consider the recent year we're interested in the year 2020\n",
        "year = '2020YE'"
      ],
      "metadata": {
        "id": "by9MPLOyfxH0"
      },
      "execution_count": 487,
      "outputs": []
    },
    {
      "cell_type": "code",
      "source": [
        "#  Compare NWP and Net Combined Ratio for 2020\n",
        "# Extract the NWP for 2020\n",
        "nwp_2020 = general_data[f'NWP_(£m)_{year}']\n",
        "# Extract the Net Combined Ratio for 2020\n",
        "ncr_2020 = underwriting_data[f'Net_combined_ratio_{year}']"
      ],
      "metadata": {
        "id": "fRexafYUf1ef"
      },
      "execution_count": 488,
      "outputs": []
    },
    {
      "cell_type": "code",
      "source": [
        "# Calculate summary statistics for NWP\n",
        "nwp_summary = nwp_2020.describe()\n",
        "# Calculate summary statistics for Net Combined Ratio\n",
        "ncr_summary = ncr_2020.describe()"
      ],
      "metadata": {
        "id": "L6jWr_Eof1gs"
      },
      "execution_count": 489,
      "outputs": []
    },
    {
      "cell_type": "code",
      "source": [
        "# Visualize the distribution of NWP and Net Combined Ratio\n",
        "fig, ax = plt.subplots(1, 2, figsize=(12, 5))\n",
        "sns.histplot(nwp_2020, bins=30, kde=True, ax=ax[0])\n",
        "sns.histplot(ncr_2020, bins=30, kde=True, ax=ax[1])\n",
        "ax[0].set_title('Distribution of NWP for 2020')\n",
        "ax[1].set_title('Distribution of Net Combined Ratio for 2020')\n",
        "plt.show()\n"
      ],
      "metadata": {
        "colab": {
          "base_uri": "https://localhost:8080/",
          "height": 487
        },
        "id": "7qHKLmyzf1jX",
        "outputId": "c087dc0e-15b9-445a-e00a-3e70d3893818"
      },
      "execution_count": 490,
      "outputs": [
        {
          "output_type": "display_data",
          "data": {
            "text/plain": [
              "<Figure size 1200x500 with 2 Axes>"
            ],
            "image/png": "[encoded data removed]"
          },
          "metadata": {}
        }
      ]
    },
    {
      "cell_type": "code",
      "source": [
        "# Output the summary statistics\n",
        "print(\"Summary statistics for NWP in 2020:\")\n",
        "print(nwp_summary)\n",
        "print(\"\\nSummary statistics for Net Combined Ratio in 2020:\")\n",
        "print(ncr_summary)\n"
      ],
      "metadata": {
        "colab": {
          "base_uri": "https://localhost:8080/"
        },
        "id": "yj_FtZUhf1lf",
        "outputId": "21213824-8678-445f-b3bc-2932e2ca3492"
      },
      "execution_count": 491,
      "outputs": [
        {
          "output_type": "stream",
          "name": "stdout",
          "text": [
            "Summary statistics for NWP in 2020:\n",
            "count      325.000000\n",
            "mean       784.543354\n",
            "std       4644.720739\n",
            "min      -2054.550000\n",
            "25%          0.000000\n",
            "50%          0.650000\n",
            "75%         58.910000\n",
            "max      60699.950000\n",
            "Name: NWP_(£m)_2020YE, dtype: float64\n",
            "\n",
            "Summary statistics for Net Combined Ratio in 2020:\n",
            "count     456.000000\n",
            "mean        7.625162\n",
            "std       137.748228\n",
            "min     -1342.940234\n",
            "25%         0.000000\n",
            "50%         0.005595\n",
            "75%         0.952987\n",
            "max      1642.927280\n",
            "Name: Net_combined_ratio_2020YE, dtype: float64\n"
          ]
        }
      ]
    },
    {
      "cell_type": "code",
      "source": [
        "print(general_data.columns)"
      ],
      "metadata": {
        "colab": {
          "base_uri": "https://localhost:8080/"
        },
        "id": "JFDdjk9sf8i1",
        "outputId": "1d477e94-f489-4417-f205-3aa1bc4afd77"
      },
      "execution_count": 492,
      "outputs": [
        {
          "output_type": "stream",
          "name": "stdout",
          "text": [
            "Index(['NWP_(£m)_2016YE', 'NWP_(£m)_2017YE', 'NWP_(£m)_2018YE',\n",
            "       'NWP_(£m)_2019YE', 'NWP_(£m)_2020YE', 'SCR_(£m)_2016YE',\n",
            "       'SCR_(£m)_2017YE', 'SCR_(£m)_2018YE', 'SCR_(£m)_2019YE',\n",
            "       'SCR_(£m)_2020YE', 'EoF_for_SCR_(£m)_2016YE', 'EoF_for_SCR_(£m)_2017YE',\n",
            "       'EoF_for_SCR_(£m)_2018YE', 'EoF_for_SCR_(£m)_2019YE',\n",
            "       'EoF_for_SCR_(£m)_2020YE', 'SCR_coverage_ratio_2016YE',\n",
            "       'SCR_coverage_ratio_2017YE', 'SCR_coverage_ratio_2018YE',\n",
            "       'SCR_coverage_ratio_2019YE', 'SCR_coverage_ratio_2020YE',\n",
            "       'GWP_(£m)_2016YE', 'GWP_(£m)_2017YE', 'GWP_(£m)_2018YE',\n",
            "       'GWP_(£m)_2019YE', 'GWP_(£m)_2020YE', 'Total_assets_(£m)_2016YE',\n",
            "       'Total_assets_(£m)_2017YE', 'Total_assets_(£m)_2018YE',\n",
            "       'Total_assets_(£m)_2019YE', 'Total_assets_(£m)_2020YE',\n",
            "       'Total_liabilities_(£m)_2016YE', 'Total_liabilities_(£m)_2017YE',\n",
            "       'Total_liabilities_(£m)_2018YE', 'Total_liabilities_(£m)_2019YE',\n",
            "       'Total_liabilities_(£m)_2020YE',\n",
            "       'Excess_of_assets_over_liabilities_(£m)_[=_equity]_2016YE',\n",
            "       'Excess_of_assets_over_liabilities_(£m)_[=_equity]_2017YE',\n",
            "       'Excess_of_assets_over_liabilities_(£m)_[=_equity]_2018YE',\n",
            "       'Excess_of_assets_over_liabilities_(£m)_[=_equity]_2019YE',\n",
            "       'Excess_of_assets_over_liabilities_(£m)_[=_equity]_2020YE', 'Firm'],\n",
            "      dtype='object')\n"
          ]
        }
      ]
    },
    {
      "cell_type": "code",
      "source": [
        "print(underwriting_data.columns)"
      ],
      "metadata": {
        "colab": {
          "base_uri": "https://localhost:8080/"
        },
        "id": "Epy2rIDrf1mg",
        "outputId": "fc2f44e7-6ad0-4248-8627-6145424088e3"
      },
      "execution_count": 493,
      "outputs": [
        {
          "output_type": "stream",
          "name": "stdout",
          "text": [
            "Index(['Gross_claims_incurred_(£m)_2016YE',\n",
            "       'Gross_claims_incurred_(£m)_2017YE',\n",
            "       'Gross_claims_incurred_(£m)_2018YE',\n",
            "       'Gross_claims_incurred_(£m)_2019YE',\n",
            "       'Gross_claims_incurred_(£m)_2020YE',\n",
            "       'Gross_BEL_(inc._TPs_as_whole,_pre-TMTP)_(£m)_2016YE',\n",
            "       'Gross_BEL_(inc._TPs_as_whole,_pre-TMTP)_(£m)_2017YE',\n",
            "       'Gross_BEL_(inc._TPs_as_whole,_pre-TMTP)_(£m)_2018YE',\n",
            "       'Gross_BEL_(inc._TPs_as_whole,_pre-TMTP)_(£m)_2019YE',\n",
            "       'Gross_BEL_(inc._TPs_as_whole,_pre-TMTP)_(£m)_2020YE',\n",
            "       'Net_BEL_(inc._TPs_as_a_whole,_pre-TMTP)_(£m)_2016YE',\n",
            "       'Net_BEL_(inc._TPs_as_a_whole,_pre-TMTP)_(£m)_2017YE',\n",
            "       'Net_BEL_(inc._TPs_as_a_whole,_pre-TMTP)_(£m)_2018YE',\n",
            "       'Net_BEL_(inc._TPs_as_a_whole,_pre-TMTP)_(£m)_2019YE',\n",
            "       'Net_BEL_(inc._TPs_as_a_whole,_pre-TMTP)_(£m)_2020YE',\n",
            "       'Pure_net_claims_ratio_2016YE', 'Pure_net_claims_ratio_2017YE',\n",
            "       'Pure_net_claims_ratio_2018YE', 'Pure_net_claims_ratio_2019YE',\n",
            "       'Pure_net_claims_ratio_2020YE', 'Net_expense_ratio_2016YE',\n",
            "       'Net_expense_ratio_2017YE', 'Net_expense_ratio_2018YE',\n",
            "       'Net_expense_ratio_2019YE', 'Net_expense_ratio_2020YE',\n",
            "       'Net_combined_ratio_2016YE', 'Net_combined_ratio_2017YE',\n",
            "       'Net_combined_ratio_2018YE', 'Net_combined_ratio_2019YE',\n",
            "       'Net_combined_ratio_2020YE', 'Pure_gross_claims_ratio_2016YE',\n",
            "       'Pure_gross_claims_ratio_2017YE', 'Pure_gross_claims_ratio_2018YE',\n",
            "       'Pure_gross_claims_ratio_2019YE', 'Pure_gross_claims_ratio_2020YE',\n",
            "       'Gross_expense_ratio_2016YE', 'Gross_expense_ratio_2017YE',\n",
            "       'Gross_expense_ratio_2018YE', 'Gross_expense_ratio_2019YE',\n",
            "       'Gross_expense_ratio_2020YE', 'Gross_combined_ratio_2016YE',\n",
            "       'Gross_combined_ratio_2017YE', 'Gross_combined_ratio_2018YE',\n",
            "       'Gross_combined_ratio_2019YE', 'Gross_combined_ratio_2020YE', 'Firm'],\n",
            "      dtype='object')\n"
          ]
        }
      ]
    },
    {
      "cell_type": "code",
      "source": [
        "\n",
        "# Analyze the data based on the latest year available, assumed to be 2020\n",
        "latest_year_general = general_data.loc[:, 'NWP_(£m)_2020YE':'Excess_of_assets_over_liabilities_(£m)_[=_equity]_2020YE']\n",
        "latest_year_underwriting = underwriting_data.loc[:, 'Gross_claims_incurred_(£m)_2020YE':'Gross_combined_ratio_2020YE']\n"
      ],
      "metadata": {
        "id": "f3-JSO1df1og"
      },
      "execution_count": 494,
      "outputs": []
    },
    {
      "cell_type": "code",
      "source": [
        "# Calculate the metrics of interest\n",
        "# Firm size based on Net Written Premium (NWP)\n",
        "firm_size = latest_year_general['NWP_(£m)_2020YE']\n"
      ],
      "metadata": {
        "id": "nqnnhSSJf1rq"
      },
      "execution_count": 495,
      "outputs": []
    },
    {
      "cell_type": "code",
      "source": [
        "# Year-on-year change in NWP to find changing business profile\n",
        "if 'NWP_(£m)_2019YE' in general_data.columns:\n",
        "    changing_business_profile = latest_year_general['NWP_(£m)_2020YE'] - general_data['NWP_(£m)_2019YE']\n",
        "else:\n",
        "    changing_business_profile = pd.Series(np.nan, index=firm_size.index)\n",
        "    print(\"Warning: 'NWP (£m)_2019YE' column not found. Year-on-year change in NWP cannot be calculated.\")\n"
      ],
      "metadata": {
        "id": "hMTN4ySPyGBh"
      },
      "execution_count": 496,
      "outputs": []
    },
    {
      "cell_type": "code",
      "source": [
        "# Identify outliers based on Net Combined Ratio\n",
        "net_combined_ratio = latest_year_underwriting['Net_combined_ratio_2020YE']\n",
        "outliers = net_combined_ratio > net_combined_ratio.mean() + 2 * net_combined_ratio.std()\n"
      ],
      "metadata": {
        "id": "rqw26SN0v0ca"
      },
      "execution_count": 497,
      "outputs": []
    },
    {
      "cell_type": "code",
      "source": [
        "# Combine datasets for further analysis, using NWP and Net Combined Ratio\n",
        "combined_data = pd.concat([firm_size, net_combined_ratio], axis=1)\n",
        "combined_data.columns = ['NWP', 'Net_Combined_Ratio']"
      ],
      "metadata": {
        "id": "NkWTSLHEv0g4"
      },
      "execution_count": 498,
      "outputs": []
    },
    {
      "cell_type": "code",
      "source": [
        "# Visualize the data using pairplot\n",
        "sns.pairplot(combined_data)\n",
        "plt.show()"
      ],
      "metadata": {
        "colab": {
          "base_uri": "https://localhost:8080/",
          "height": 513
        },
        "id": "gX7sG4VKv0me",
        "outputId": "39716a30-6278-40c6-d4c2-6f6ed673fe57"
      },
      "execution_count": 499,
      "outputs": [
        {
          "output_type": "display_data",
          "data": {
            "text/plain": [
              "<Figure size 500x500 with 6 Axes>"
            ],
            "image/png": "[encoded data removed]"
          },
          "metadata": {}
        }
      ]
    },
    {
      "cell_type": "markdown",
      "source": [
        "Here's an interpretation of the above plot :\n",
        "\n",
        "1. **Scatterplot**: The off-diagonal plot shows a scatterplot comparing two variables: Net Written Premium (NWP) on the x-axis and Net Combined Ratio on the y-axis. Each dot represents one firm, positioned according to its values for these two metrics.\n",
        "\n",
        "2. **NWP (Net Written Premium)**: This is typically a measure of the size of the firm within the insurance industry. Larger values on the x-axis indicate larger firms.\n",
        "\n",
        "3. **Net Combined Ratio**: This metric indicates profitability. Values under 100 suggest profitability, and values over 100 suggest a loss. This is shown on the y-axis.\n",
        "\n",
        "4. **Data Distribution**:\n",
        "   - There's a cluster of firms around the origin, indicating a group of firms with low NWP and low or moderately high Net Combined Ratio.\n",
        "   - A few firms have a high NWP (spread along the x-axis to the right), indicating larger firms.\n",
        "   - There's a vertical spread of points along the x-axis near the zero point, showing that there are various firms with similar NWPs but widely different Net Combined Ratios.\n",
        "   - A noticeable pattern is that as NWP increases, the Net Combined Ratio tends to be lower (though this pattern isn't absolute).\n",
        "\n",
        "5. **Outliers**:\n",
        "   - There are several points far above the main cluster, indicating firms with extremely high Net Combined Ratios compared to the rest. These are potential outliers or firms with significant underwriting losses or high expenses relative to premiums earned.\n",
        "   - There are points to the far right that represent firms with very high NWPs. These are the largest firms by premium volume.\n",
        "\n",
        "6. **Interpretation**:\n",
        "   - Most firms are clustered with low NWP and a Net Combined Ratio near or below 100%, which is typical for a profitable or break-even insurance operation.\n",
        "   - The firms with the highest NWP don't have extreme Net Combined Ratios, suggesting larger firms may have better financial stability or effectiveness in managing their insurance operations.\n",
        "   - The outliers with high Net Combined Ratios could be in financial distress, facing underwriting losses, or they may have experienced large-scale claim events in 2020.\n",
        "   - This plot can help stakeholders identify which firms may need further investigation due to potential financial health concerns."
      ],
      "metadata": {
        "id": "IdqClp1zNaGy"
      }
    },
    {
      "cell_type": "code",
      "source": [
        "# Determine which firms need the most attention based on the calculated metrics\n",
        "# Higher NWP indicates a larger firm size, so it's weighted more\n",
        "# Larger changes in NWP indicate a changing business profile, which is also important\n",
        "# Outliers based on Net Combined Ratio are critical\n",
        "combined_data['Attention_Score'] = combined_data['NWP'].rank(pct=True) + \\\n",
        "                                   changing_business_profile.abs().rank(pct=True) + \\\n",
        "                                   outliers.astype(int)"
      ],
      "metadata": {
        "id": "A2g9Y67dwU3z"
      },
      "execution_count": 501,
      "outputs": []
    },
    {
      "cell_type": "code",
      "source": [
        "# Sort the firms based on the Attention Score\n",
        "firms_to_focus = combined_data.sort_values(by='Attention_Score', ascending=False)\n"
      ],
      "metadata": {
        "id": "vHuHu1oSv0px"
      },
      "execution_count": 502,
      "outputs": []
    },
    {
      "cell_type": "code",
      "source": [
        "# Output the firms that need the most attention\n",
        "print(\"Firms that need the most attention:\")\n",
        "print(firms_to_focus.head(10))\n"
      ],
      "metadata": {
        "colab": {
          "base_uri": "https://localhost:8080/"
        },
        "id": "v7ykchZYv0s_",
        "outputId": "1b02612c-6172-4ded-eae2-4399b0ea2d0e"
      },
      "execution_count": 503,
      "outputs": [
        {
          "output_type": "stream",
          "name": "stdout",
          "text": [
            "Firms that need the most attention:\n",
            "               NWP  Net_Combined_Ratio  Attention_Score\n",
            "Firm 284     44.75         1630.065399         2.489231\n",
            "Firm 228      8.38         1642.927280         2.113846\n",
            "Firm 166      3.59         1222.879483         2.046154\n",
            "Firm 210  60699.95            0.830564         2.000000\n",
            "Firm 4    49204.47           -3.548731         1.993846\n",
            "Firm 311  14566.28            1.899173         1.981538\n",
            "Firm 26   16395.67            1.290029         1.975385\n",
            "Firm 199  13133.46            0.654217         1.972308\n",
            "Firm 7     6486.66            0.000000         1.969231\n",
            "Firm 34    6105.50            1.636143         1.947692\n"
          ]
        }
      ]
    },
    {
      "cell_type": "markdown",
      "source": [
        "The table above lists the top 10 firms that need the most attention based on the calculated 'Attention Score'.\n",
        "\n",
        "The 'Attention Score' is a composite measure that considers the firm size (indicated by Net Written Premium or NWP), the Net Combined Ratio, and whether the firm is an outlier in terms of the Net Combined Ratio.\n",
        "\n",
        "Here's how you can interpret the table:\n",
        "\n",
        "Firm 284: This firm has a relatively low NWP of 44.75, but an extremely high Net Combined Ratio of 1630.07, indicating that its losses and expenses far exceed its premium earnings. It has the highest attention score, meaning it should be prioritized for further analysis and potential action.\n",
        "\n",
        "Firm 228: Similar to Firm 284, this firm has a low NWP of 8.38 and an even higher Net Combined Ratio of 1642.93, making it another firm that requires significant attention.\n",
        "\n",
        "Firm 166: This firm has a very low NWP of 3.59 and a high Net Combined Ratio of 1222.88, indicating financial distress.\n",
        "\n",
        "Firm 210: This firm stands out with an extremely high NWP of 60699.95, suggesting it's a very large firm. Its Net Combined Ratio is 0.83, which is below 100%, indicating profitability. However, its size likely contributes to its high attention score, as larger firms can have a more significant impact on the market and regulatory concerns.\n",
        "\n",
        "Firm 4: Another large firm with a high NWP of 49204.47 but a negative Net Combined Ratio of -3.55, indicating profitability. It's still flagged for attention due to its size.\n",
        "\n",
        "Firm 311, Firm 26, Firm 199, Firm 7, Firm 34: These firms vary in size (as indicated by their NWP values) and have Net Combined Ratios ranging from below 100% (indicating profitability) to above 100% (indicating losses). They are included in this list due to a combination of their size and financial performance metrics.\n",
        "\n",
        "To summarise, the table highlights firms that require the most attention based on a combination of their size and financial performance, with particular emphasis on those with high Net Combined Ratios, indicating potential financial distress."
      ],
      "metadata": {
        "id": "oKwRjJUbMXay"
      }
    },
    {
      "cell_type": "code",
      "source": [],
      "metadata": {
        "id": "T5zDsmz6v0vG"
      },
      "execution_count": null,
      "outputs": []
    },
    {
      "cell_type": "code",
      "source": [],
      "metadata": {
        "id": "LasteR0jf1wX"
      },
      "execution_count": null,
      "outputs": []
    },
    {
      "cell_type": "code",
      "source": [],
      "metadata": {
        "id": "deKDD8eUJtB6"
      },
      "execution_count": null,
      "outputs": []
    },
    {
      "cell_type": "code",
      "source": [
        "################################## TASK - 2 ################################"
      ],
      "metadata": {
        "id": "iy_387xYXQos"
      },
      "execution_count": null,
      "outputs": []
    },
    {
      "cell_type": "code",
      "source": [],
      "metadata": {
        "id": "ePSyh7djJtEn"
      },
      "execution_count": null,
      "outputs": []
    },
    {
      "cell_type": "code",
      "execution_count": 504,
      "metadata": {
        "id": "batRBmjOFnuK"
      },
      "outputs": [],
      "source": [
        "# Import necessary libraries\n",
        "import pandas as pd\n",
        "import numpy as np\n",
        "import matplotlib.pyplot as plt\n",
        "import seaborn as sns\n",
        "from sklearn.preprocessing import StandardScaler, LabelEncoder\n",
        "from sklearn.impute import SimpleImputer\n",
        "from sklearn.cluster import KMeans\n",
        "from sklearn.ensemble import IsolationForest"
      ]
    },
    {
      "cell_type": "code",
      "source": [],
      "metadata": {
        "id": "GVO_YCoMU_5V"
      },
      "execution_count": 198,
      "outputs": []
    },
    {
      "cell_type": "code",
      "source": [
        "print(data.columns)"
      ],
      "metadata": {
        "id": "tqWc8FJOVAFV",
        "colab": {
          "base_uri": "https://localhost:8080/"
        },
        "outputId": "66837dab-bcba-40f4-a810-fcce16325609"
      },
      "execution_count": 505,
      "outputs": [
        {
          "output_type": "stream",
          "name": "stdout",
          "text": [
            "Index(['NWP_(£m)_2016YE', 'NWP_(£m)_2017YE', 'NWP_(£m)_2018YE',\n",
            "       'NWP_(£m)_2019YE', 'NWP_(£m)_2020YE', 'SCR_(£m)_2016YE',\n",
            "       'SCR_(£m)_2017YE', 'SCR_(£m)_2018YE', 'SCR_(£m)_2019YE',\n",
            "       'SCR_(£m)_2020YE', 'EoF_for_SCR_(£m)_2016YE', 'EoF_for_SCR_(£m)_2017YE',\n",
            "       'EoF_for_SCR_(£m)_2018YE', 'EoF_for_SCR_(£m)_2019YE',\n",
            "       'EoF_for_SCR_(£m)_2020YE', 'SCR_coverage_ratio_2016YE',\n",
            "       'SCR_coverage_ratio_2017YE', 'SCR_coverage_ratio_2018YE',\n",
            "       'SCR_coverage_ratio_2019YE', 'SCR_coverage_ratio_2020YE',\n",
            "       'GWP_(£m)_2016YE', 'GWP_(£m)_2017YE', 'GWP_(£m)_2018YE',\n",
            "       'GWP_(£m)_2019YE', 'GWP_(£m)_2020YE', 'Total_assets_(£m)_2016YE',\n",
            "       'Total_assets_(£m)_2017YE', 'Total_assets_(£m)_2018YE',\n",
            "       'Total_assets_(£m)_2019YE', 'Total_assets_(£m)_2020YE',\n",
            "       'Total_liabilities_(£m)_2016YE', 'Total_liabilities_(£m)_2017YE',\n",
            "       'Total_liabilities_(£m)_2018YE', 'Total_liabilities_(£m)_2019YE',\n",
            "       'Total_liabilities_(£m)_2020YE',\n",
            "       'Excess_of_assets_over_liabilities_(£m)_[=_equity]_2016YE',\n",
            "       'Excess_of_assets_over_liabilities_(£m)_[=_equity]_2017YE',\n",
            "       'Excess_of_assets_over_liabilities_(£m)_[=_equity]_2018YE',\n",
            "       'Excess_of_assets_over_liabilities_(£m)_[=_equity]_2019YE',\n",
            "       'Excess_of_assets_over_liabilities_(£m)_[=_equity]_2020YE', 'Firm',\n",
            "       'Gross_claims_incurred_(£m)_2016YE',\n",
            "       'Gross_claims_incurred_(£m)_2017YE',\n",
            "       'Gross_claims_incurred_(£m)_2018YE',\n",
            "       'Gross_claims_incurred_(£m)_2019YE',\n",
            "       'Gross_claims_incurred_(£m)_2020YE',\n",
            "       'Gross_BEL_(inc._TPs_as_whole,_pre-TMTP)_(£m)_2016YE',\n",
            "       'Gross_BEL_(inc._TPs_as_whole,_pre-TMTP)_(£m)_2017YE',\n",
            "       'Gross_BEL_(inc._TPs_as_whole,_pre-TMTP)_(£m)_2018YE',\n",
            "       'Gross_BEL_(inc._TPs_as_whole,_pre-TMTP)_(£m)_2019YE',\n",
            "       'Gross_BEL_(inc._TPs_as_whole,_pre-TMTP)_(£m)_2020YE',\n",
            "       'Net_BEL_(inc._TPs_as_a_whole,_pre-TMTP)_(£m)_2016YE',\n",
            "       'Net_BEL_(inc._TPs_as_a_whole,_pre-TMTP)_(£m)_2017YE',\n",
            "       'Net_BEL_(inc._TPs_as_a_whole,_pre-TMTP)_(£m)_2018YE',\n",
            "       'Net_BEL_(inc._TPs_as_a_whole,_pre-TMTP)_(£m)_2019YE',\n",
            "       'Net_BEL_(inc._TPs_as_a_whole,_pre-TMTP)_(£m)_2020YE',\n",
            "       'Pure_net_claims_ratio_2016YE', 'Pure_net_claims_ratio_2017YE',\n",
            "       'Pure_net_claims_ratio_2018YE', 'Pure_net_claims_ratio_2019YE',\n",
            "       'Pure_net_claims_ratio_2020YE', 'Net_expense_ratio_2016YE',\n",
            "       'Net_expense_ratio_2017YE', 'Net_expense_ratio_2018YE',\n",
            "       'Net_expense_ratio_2019YE', 'Net_expense_ratio_2020YE',\n",
            "       'Net_combined_ratio_2016YE', 'Net_combined_ratio_2017YE',\n",
            "       'Net_combined_ratio_2018YE', 'Net_combined_ratio_2019YE',\n",
            "       'Net_combined_ratio_2020YE', 'Pure_gross_claims_ratio_2016YE',\n",
            "       'Pure_gross_claims_ratio_2017YE', 'Pure_gross_claims_ratio_2018YE',\n",
            "       'Pure_gross_claims_ratio_2019YE', 'Pure_gross_claims_ratio_2020YE',\n",
            "       'Gross_expense_ratio_2016YE', 'Gross_expense_ratio_2017YE',\n",
            "       'Gross_expense_ratio_2018YE', 'Gross_expense_ratio_2019YE',\n",
            "       'Gross_expense_ratio_2020YE', 'Gross_combined_ratio_2016YE',\n",
            "       'Gross_combined_ratio_2017YE', 'Gross_combined_ratio_2018YE',\n",
            "       'Gross_combined_ratio_2019YE', 'Gross_combined_ratio_2020YE', 'Outlier',\n",
            "       'NWP_Change'],\n",
            "      dtype='object')\n"
          ]
        }
      ]
    },
    {
      "cell_type": "code",
      "source": [
        "data.shape"
      ],
      "metadata": {
        "colab": {
          "base_uri": "https://localhost:8080/"
        },
        "id": "OLvGBaElNKvn",
        "outputId": "46daee99-e3ca-4f50-a93e-d7d5bf5ac384"
      },
      "execution_count": 506,
      "outputs": [
        {
          "output_type": "execute_result",
          "data": {
            "text/plain": [
              "(456, 88)"
            ]
          },
          "metadata": {},
          "execution_count": 506
        }
      ]
    },
    {
      "cell_type": "code",
      "source": [
        "print(general_data.columns)\n",
        "print(underwriting_data.columns)"
      ],
      "metadata": {
        "id": "h5PWNAFkJCvN",
        "colab": {
          "base_uri": "https://localhost:8080/"
        },
        "outputId": "c1fc9f3c-7b1f-419a-a8fe-d47709f2e322"
      },
      "execution_count": 507,
      "outputs": [
        {
          "output_type": "stream",
          "name": "stdout",
          "text": [
            "Index(['NWP_(£m)_2016YE', 'NWP_(£m)_2017YE', 'NWP_(£m)_2018YE',\n",
            "       'NWP_(£m)_2019YE', 'NWP_(£m)_2020YE', 'SCR_(£m)_2016YE',\n",
            "       'SCR_(£m)_2017YE', 'SCR_(£m)_2018YE', 'SCR_(£m)_2019YE',\n",
            "       'SCR_(£m)_2020YE', 'EoF_for_SCR_(£m)_2016YE', 'EoF_for_SCR_(£m)_2017YE',\n",
            "       'EoF_for_SCR_(£m)_2018YE', 'EoF_for_SCR_(£m)_2019YE',\n",
            "       'EoF_for_SCR_(£m)_2020YE', 'SCR_coverage_ratio_2016YE',\n",
            "       'SCR_coverage_ratio_2017YE', 'SCR_coverage_ratio_2018YE',\n",
            "       'SCR_coverage_ratio_2019YE', 'SCR_coverage_ratio_2020YE',\n",
            "       'GWP_(£m)_2016YE', 'GWP_(£m)_2017YE', 'GWP_(£m)_2018YE',\n",
            "       'GWP_(£m)_2019YE', 'GWP_(£m)_2020YE', 'Total_assets_(£m)_2016YE',\n",
            "       'Total_assets_(£m)_2017YE', 'Total_assets_(£m)_2018YE',\n",
            "       'Total_assets_(£m)_2019YE', 'Total_assets_(£m)_2020YE',\n",
            "       'Total_liabilities_(£m)_2016YE', 'Total_liabilities_(£m)_2017YE',\n",
            "       'Total_liabilities_(£m)_2018YE', 'Total_liabilities_(£m)_2019YE',\n",
            "       'Total_liabilities_(£m)_2020YE',\n",
            "       'Excess_of_assets_over_liabilities_(£m)_[=_equity]_2016YE',\n",
            "       'Excess_of_assets_over_liabilities_(£m)_[=_equity]_2017YE',\n",
            "       'Excess_of_assets_over_liabilities_(£m)_[=_equity]_2018YE',\n",
            "       'Excess_of_assets_over_liabilities_(£m)_[=_equity]_2019YE',\n",
            "       'Excess_of_assets_over_liabilities_(£m)_[=_equity]_2020YE', 'Firm'],\n",
            "      dtype='object')\n",
            "Index(['Gross_claims_incurred_(£m)_2016YE',\n",
            "       'Gross_claims_incurred_(£m)_2017YE',\n",
            "       'Gross_claims_incurred_(£m)_2018YE',\n",
            "       'Gross_claims_incurred_(£m)_2019YE',\n",
            "       'Gross_claims_incurred_(£m)_2020YE',\n",
            "       'Gross_BEL_(inc._TPs_as_whole,_pre-TMTP)_(£m)_2016YE',\n",
            "       'Gross_BEL_(inc._TPs_as_whole,_pre-TMTP)_(£m)_2017YE',\n",
            "       'Gross_BEL_(inc._TPs_as_whole,_pre-TMTP)_(£m)_2018YE',\n",
            "       'Gross_BEL_(inc._TPs_as_whole,_pre-TMTP)_(£m)_2019YE',\n",
            "       'Gross_BEL_(inc._TPs_as_whole,_pre-TMTP)_(£m)_2020YE',\n",
            "       'Net_BEL_(inc._TPs_as_a_whole,_pre-TMTP)_(£m)_2016YE',\n",
            "       'Net_BEL_(inc._TPs_as_a_whole,_pre-TMTP)_(£m)_2017YE',\n",
            "       'Net_BEL_(inc._TPs_as_a_whole,_pre-TMTP)_(£m)_2018YE',\n",
            "       'Net_BEL_(inc._TPs_as_a_whole,_pre-TMTP)_(£m)_2019YE',\n",
            "       'Net_BEL_(inc._TPs_as_a_whole,_pre-TMTP)_(£m)_2020YE',\n",
            "       'Pure_net_claims_ratio_2016YE', 'Pure_net_claims_ratio_2017YE',\n",
            "       'Pure_net_claims_ratio_2018YE', 'Pure_net_claims_ratio_2019YE',\n",
            "       'Pure_net_claims_ratio_2020YE', 'Net_expense_ratio_2016YE',\n",
            "       'Net_expense_ratio_2017YE', 'Net_expense_ratio_2018YE',\n",
            "       'Net_expense_ratio_2019YE', 'Net_expense_ratio_2020YE',\n",
            "       'Net_combined_ratio_2016YE', 'Net_combined_ratio_2017YE',\n",
            "       'Net_combined_ratio_2018YE', 'Net_combined_ratio_2019YE',\n",
            "       'Net_combined_ratio_2020YE', 'Pure_gross_claims_ratio_2016YE',\n",
            "       'Pure_gross_claims_ratio_2017YE', 'Pure_gross_claims_ratio_2018YE',\n",
            "       'Pure_gross_claims_ratio_2019YE', 'Pure_gross_claims_ratio_2020YE',\n",
            "       'Gross_expense_ratio_2016YE', 'Gross_expense_ratio_2017YE',\n",
            "       'Gross_expense_ratio_2018YE', 'Gross_expense_ratio_2019YE',\n",
            "       'Gross_expense_ratio_2020YE', 'Gross_combined_ratio_2016YE',\n",
            "       'Gross_combined_ratio_2017YE', 'Gross_combined_ratio_2018YE',\n",
            "       'Gross_combined_ratio_2019YE', 'Gross_combined_ratio_2020YE', 'Firm'],\n",
            "      dtype='object')\n"
          ]
        }
      ]
    },
    {
      "cell_type": "code",
      "source": [
        "data.columns"
      ],
      "metadata": {
        "colab": {
          "base_uri": "https://localhost:8080/"
        },
        "id": "1UrX1X0FOF5h",
        "outputId": "5a2b0285-abdb-4235-8344-530edb2d7162"
      },
      "execution_count": 508,
      "outputs": [
        {
          "output_type": "execute_result",
          "data": {
            "text/plain": [
              "Index(['NWP_(£m)_2016YE', 'NWP_(£m)_2017YE', 'NWP_(£m)_2018YE',\n",
              "       'NWP_(£m)_2019YE', 'NWP_(£m)_2020YE', 'SCR_(£m)_2016YE',\n",
              "       'SCR_(£m)_2017YE', 'SCR_(£m)_2018YE', 'SCR_(£m)_2019YE',\n",
              "       'SCR_(£m)_2020YE', 'EoF_for_SCR_(£m)_2016YE', 'EoF_for_SCR_(£m)_2017YE',\n",
              "       'EoF_for_SCR_(£m)_2018YE', 'EoF_for_SCR_(£m)_2019YE',\n",
              "       'EoF_for_SCR_(£m)_2020YE', 'SCR_coverage_ratio_2016YE',\n",
              "       'SCR_coverage_ratio_2017YE', 'SCR_coverage_ratio_2018YE',\n",
              "       'SCR_coverage_ratio_2019YE', 'SCR_coverage_ratio_2020YE',\n",
              "       'GWP_(£m)_2016YE', 'GWP_(£m)_2017YE', 'GWP_(£m)_2018YE',\n",
              "       'GWP_(£m)_2019YE', 'GWP_(£m)_2020YE', 'Total_assets_(£m)_2016YE',\n",
              "       'Total_assets_(£m)_2017YE', 'Total_assets_(£m)_2018YE',\n",
              "       'Total_assets_(£m)_2019YE', 'Total_assets_(£m)_2020YE',\n",
              "       'Total_liabilities_(£m)_2016YE', 'Total_liabilities_(£m)_2017YE',\n",
              "       'Total_liabilities_(£m)_2018YE', 'Total_liabilities_(£m)_2019YE',\n",
              "       'Total_liabilities_(£m)_2020YE',\n",
              "       'Excess_of_assets_over_liabilities_(£m)_[=_equity]_2016YE',\n",
              "       'Excess_of_assets_over_liabilities_(£m)_[=_equity]_2017YE',\n",
              "       'Excess_of_assets_over_liabilities_(£m)_[=_equity]_2018YE',\n",
              "       'Excess_of_assets_over_liabilities_(£m)_[=_equity]_2019YE',\n",
              "       'Excess_of_assets_over_liabilities_(£m)_[=_equity]_2020YE', 'Firm',\n",
              "       'Gross_claims_incurred_(£m)_2016YE',\n",
              "       'Gross_claims_incurred_(£m)_2017YE',\n",
              "       'Gross_claims_incurred_(£m)_2018YE',\n",
              "       'Gross_claims_incurred_(£m)_2019YE',\n",
              "       'Gross_claims_incurred_(£m)_2020YE',\n",
              "       'Gross_BEL_(inc._TPs_as_whole,_pre-TMTP)_(£m)_2016YE',\n",
              "       'Gross_BEL_(inc._TPs_as_whole,_pre-TMTP)_(£m)_2017YE',\n",
              "       'Gross_BEL_(inc._TPs_as_whole,_pre-TMTP)_(£m)_2018YE',\n",
              "       'Gross_BEL_(inc._TPs_as_whole,_pre-TMTP)_(£m)_2019YE',\n",
              "       'Gross_BEL_(inc._TPs_as_whole,_pre-TMTP)_(£m)_2020YE',\n",
              "       'Net_BEL_(inc._TPs_as_a_whole,_pre-TMTP)_(£m)_2016YE',\n",
              "       'Net_BEL_(inc._TPs_as_a_whole,_pre-TMTP)_(£m)_2017YE',\n",
              "       'Net_BEL_(inc._TPs_as_a_whole,_pre-TMTP)_(£m)_2018YE',\n",
              "       'Net_BEL_(inc._TPs_as_a_whole,_pre-TMTP)_(£m)_2019YE',\n",
              "       'Net_BEL_(inc._TPs_as_a_whole,_pre-TMTP)_(£m)_2020YE',\n",
              "       'Pure_net_claims_ratio_2016YE', 'Pure_net_claims_ratio_2017YE',\n",
              "       'Pure_net_claims_ratio_2018YE', 'Pure_net_claims_ratio_2019YE',\n",
              "       'Pure_net_claims_ratio_2020YE', 'Net_expense_ratio_2016YE',\n",
              "       'Net_expense_ratio_2017YE', 'Net_expense_ratio_2018YE',\n",
              "       'Net_expense_ratio_2019YE', 'Net_expense_ratio_2020YE',\n",
              "       'Net_combined_ratio_2016YE', 'Net_combined_ratio_2017YE',\n",
              "       'Net_combined_ratio_2018YE', 'Net_combined_ratio_2019YE',\n",
              "       'Net_combined_ratio_2020YE', 'Pure_gross_claims_ratio_2016YE',\n",
              "       'Pure_gross_claims_ratio_2017YE', 'Pure_gross_claims_ratio_2018YE',\n",
              "       'Pure_gross_claims_ratio_2019YE', 'Pure_gross_claims_ratio_2020YE',\n",
              "       'Gross_expense_ratio_2016YE', 'Gross_expense_ratio_2017YE',\n",
              "       'Gross_expense_ratio_2018YE', 'Gross_expense_ratio_2019YE',\n",
              "       'Gross_expense_ratio_2020YE', 'Gross_combined_ratio_2016YE',\n",
              "       'Gross_combined_ratio_2017YE', 'Gross_combined_ratio_2018YE',\n",
              "       'Gross_combined_ratio_2019YE', 'Gross_combined_ratio_2020YE', 'Outlier',\n",
              "       'NWP_Change'],\n",
              "      dtype='object')"
            ]
          },
          "metadata": {},
          "execution_count": 508
        }
      ]
    },
    {
      "cell_type": "code",
      "source": [
        "data.shape"
      ],
      "metadata": {
        "colab": {
          "base_uri": "https://localhost:8080/"
        },
        "id": "dDX-Pt5TLBO7",
        "outputId": "c21392db-b492-48f0-f324-263f81414753"
      },
      "execution_count": 509,
      "outputs": [
        {
          "output_type": "execute_result",
          "data": {
            "text/plain": [
              "(456, 88)"
            ]
          },
          "metadata": {},
          "execution_count": 509
        }
      ]
    },
    {
      "cell_type": "code",
      "source": [],
      "metadata": {
        "id": "kH8A6GkRXQl6"
      },
      "execution_count": null,
      "outputs": []
    },
    {
      "cell_type": "code",
      "source": [
        "# Feature selection and engineering\n",
        "features = [gwp_column, nwp_column, scr_column, 'Gross_claims_incurred_(£m)_2020YE', 'Net_combined_ratio_2020YE']\n",
        "X = data[features]\n"
      ],
      "metadata": {
        "id": "ikfspHJIF7Ed"
      },
      "execution_count": 510,
      "outputs": []
    },
    {
      "cell_type": "code",
      "source": [
        "# Convert string values to float\n",
        "X = X.astype(float)\n"
      ],
      "metadata": {
        "id": "nsa9fe6wLOCk"
      },
      "execution_count": 511,
      "outputs": []
    },
    {
      "cell_type": "code",
      "source": [
        "# Scale the features\n",
        "scaler = StandardScaler()\n",
        "X_scaled = scaler.fit_transform(X)"
      ],
      "metadata": {
        "id": "jc0swyGwF7GR"
      },
      "execution_count": 512,
      "outputs": []
    },
    {
      "cell_type": "code",
      "source": [
        "# Model selection and training\n",
        "# Clustering using K-Means\n",
        "kmeans = KMeans(n_clusters=3, random_state=42)\n",
        "kmeans.fit(X_scaled)\n",
        "data['Cluster'] = kmeans.labels_"
      ],
      "metadata": {
        "colab": {
          "base_uri": "https://localhost:8080/"
        },
        "id": "JnuaUrqTF7I_",
        "outputId": "399125b2-7509-4fe9-df31-d35110dc8ea5"
      },
      "execution_count": 513,
      "outputs": [
        {
          "output_type": "stream",
          "name": "stderr",
          "text": [
            "/usr/local/lib/python3.10/dist-packages/sklearn/cluster/_kmeans.py:870: FutureWarning: The default value of `n_init` will change from 10 to 'auto' in 1.4. Set the value of `n_init` explicitly to suppress the warning\n",
            "  warnings.warn(\n"
          ]
        }
      ]
    },
    {
      "cell_type": "code",
      "source": [
        "# Anomaly detection using Isolation Forest\n",
        "isolation_forest = IsolationForest(contamination=0.1, random_state=42)\n",
        "data['Anomaly'] = isolation_forest.fit_predict(X_scaled)"
      ],
      "metadata": {
        "id": "lF9aj81zF7Kv"
      },
      "execution_count": 514,
      "outputs": []
    },
    {
      "cell_type": "code",
      "source": [
        "# Model evaluation and interpretation\n",
        "print(\"Cluster centroids:\")\n",
        "print(kmeans.cluster_centers_)\n"
      ],
      "metadata": {
        "colab": {
          "base_uri": "https://localhost:8080/"
        },
        "id": "uay_C9k7F7OI",
        "outputId": "2c3c5c0d-504c-4f23-b33a-3da1eac83762"
      },
      "execution_count": 515,
      "outputs": [
        {
          "output_type": "stream",
          "name": "stdout",
          "text": [
            "Cluster centroids:\n",
            "[[-5.52301276e-02 -6.06409102e-02 -4.67744078e-02 -6.72688647e-03\n",
            "   4.10605541e-04]\n",
            " [-2.20369902e-01 -2.00385945e-01  2.13212698e+01  5.87061475e-01\n",
            "  -5.54165896e-02]\n",
            " [ 1.26198089e+01  1.38353591e+01 -6.62315539e-02  1.23010905e+00\n",
            "  -6.52938602e-02]]\n"
          ]
        }
      ]
    },
    {
      "cell_type": "code",
      "source": [
        "plt.figure(figsize=(10, 6))\n",
        "sns.scatterplot(x=gwp_column, y=scr_column, hue='Cluster', data=data, palette='viridis')\n",
        "plt.title('Clustering Results')\n",
        "plt.xlabel('GWP (£m)')\n",
        "plt.ylabel('SCR Coverage Ratio')\n",
        "plt.show()"
      ],
      "metadata": {
        "colab": {
          "base_uri": "https://localhost:8080/",
          "height": 564
        },
        "id": "8FAndEgeLWbK",
        "outputId": "b319dc79-7df6-4a48-855f-83983062767d"
      },
      "execution_count": 516,
      "outputs": [
        {
          "output_type": "display_data",
          "data": {
            "text/plain": [
              "<Figure size 1000x600 with 1 Axes>"
            ],
            "image/png": "[encoded data removed]"
          },
          "metadata": {}
        }
      ]
    },
    {
      "cell_type": "markdown",
      "source": [
        "\n",
        "The scatter plot above illustrates the results of a K-means clustering algorithm applied to financial data from insurance firms.\n",
        "\n",
        "Here's what we can infer:\n",
        "\n",
        "Clusters: The data points (firms) are color-coded by the cluster they belong to, with three clusters represented by the colors purple, green, and yellow. Each cluster groups together firms with similar characteristics based on the clustering algorithm's criteria.\n",
        "\n",
        "Axes:\n",
        "\n",
        "The x-axis represents Gross Written Premium (GWP), which is a measure of the total revenue written by an insurer before deductions for reinsurance and ceding commissions. It's a common financial metric used to gauge the size of an insurance company.\n",
        "The y-axis shows the SCR (Solvency Capital Requirement) Coverage Ratio, which is a regulatory metric used to evaluate the financial stability of an insurance firm. It indicates whether the firm has enough capital to meet its regulatory requirements.\n",
        "Interpretation of Clusters:\n",
        "\n",
        "Cluster 0 (Purple): The bulk of data points is in this cluster, suggesting these are typical firms with lower GWP and a relatively low range of SCR Coverage Ratios. This cluster could represent small to medium-sized firms that are stable or in the expected regulatory compliance range.\n",
        "Cluster 1 (Green): This cluster is not visible in the plot, which might indicate it includes firms with characteristics that are not represented in the scatter plot's axis ranges.\n",
        "Cluster 2 (Yellow): This cluster contains only two firms, both with extremely high GWP values compared to the rest. These are likely to be very large insurers. Their SCR Coverage Ratios are not excessively high, which suggests that despite their size, they maintain a good balance between their capital and regulatory requirements.\n",
        "Outliers: The yellow points on the far right could be considered outliers due to their significant deviation in GWP from the rest of the firms.\n",
        "\n",
        "K-Means Centroids:\n",
        "\n",
        "The centroid coordinates you provided for each cluster indicate the \"center\" of each cluster in the multidimensional space created by the features used for clustering.\n",
        "The values in the centroids array correspond to the standardized values of the features (as a result of feature scaling), and they help determine the central point around which the members of each cluster are the closest in terms of Euclidean distance.\n",
        "Given that there are only two firms in Cluster 2, the clustering algorithm has found that these two firms are significantly different from the others, potentially due to their large size and market impact. It would be prudent for analysts to consider why the algorithm has separated these firms so distinctly, potentially due to unique financial profiles that merit separate consideration."
      ],
      "metadata": {
        "id": "s0fYwQuvOcGf"
      }
    },
    {
      "cell_type": "code",
      "source": [
        "print(\"Anomalies detected:\")\n",
        "anomalies = data[data['Anomaly'] == -1]\n",
        "print(anomalies)"
      ],
      "metadata": {
        "colab": {
          "base_uri": "https://localhost:8080/"
        },
        "id": "SkFURv-rLWdY",
        "outputId": "4ed7851c-dd45-4474-adfe-c291b57076e2"
      },
      "execution_count": 517,
      "outputs": [
        {
          "output_type": "stream",
          "name": "stdout",
          "text": [
            "Anomalies detected:\n",
            "     NWP_(£m)_2016YE  NWP_(£m)_2017YE  NWP_(£m)_2018YE  NWP_(£m)_2019YE  \\\n",
            "3       19677.450000     41072.820000     20885.510000     14719.670000   \n",
            "5        3091.390000      3357.930000      3215.470000        53.220000   \n",
            "6        3148.480000      3307.130000       713.850000     18232.380000   \n",
            "16       5210.940000      1146.930000      1620.220000      1256.930000   \n",
            "21         11.350000        26.610000        55.840000        53.520000   \n",
            "24       9622.280000      2356.630000      1227.710000      7134.650000   \n",
            "25      75526.670000      2187.590000     11251.350000      6683.960000   \n",
            "29        198.460000      5260.730000      9063.120000      6124.600000   \n",
            "33      10135.260000      3630.290000      3530.840000      -184.090000   \n",
            "50          0.000000       427.490000      3812.030000      5655.160000   \n",
            "51          0.000000        16.700000         5.860000         1.050000   \n",
            "72       8118.730000       880.740000      6813.490000     11752.060000   \n",
            "79        224.590000       105.670000      1744.480000       924.910000   \n",
            "103        12.740000        63.770000     18870.460000      1697.620000   \n",
            "104     41465.110000     18539.930000       -11.980000     21335.960000   \n",
            "111         0.000000         0.000000         0.000000         0.000000   \n",
            "126         0.000000         0.000000         0.000000         0.000000   \n",
            "150     -1578.070000     10665.120000     12231.910000      7970.540000   \n",
            "157       525.850000       425.140000      1004.660000       166.270000   \n",
            "165         0.000000         0.560000        50.380000         0.900000   \n",
            "198         1.220000     10050.600000     11509.510000      3395.030000   \n",
            "209     30031.050000     19261.410000     41591.400000     25473.310000   \n",
            "227         3.160000         6.000000        16.830000         3.740000   \n",
            "233      3700.800000      5344.310000      1155.110000      3998.980000   \n",
            "246      2489.220000     25897.340000      6237.270000      6512.230000   \n",
            "275         0.000000      9897.770000      2565.770000      1179.990000   \n",
            "279        65.100000        78.770000       105.990000        97.370000   \n",
            "282         7.140000        14.290000         9.700000         2.720000   \n",
            "283        65.980000       127.860000        22.730000       127.620000   \n",
            "285       129.620000        76.690000        62.610000         1.080000   \n",
            "300     -1123.890000       325.970000       615.720000      1962.980000   \n",
            "310       -15.160000     14897.660000     12734.770000       381.200000   \n",
            "316      1635.740000      4105.050000      4838.900000      4451.740000   \n",
            "336       748.880615       754.091877       734.934369       636.330523   \n",
            "340       748.880615       754.091877       734.934369       636.330523   \n",
            "346       748.880615       754.091877       734.934369       636.330523   \n",
            "361       748.880615       754.091877       734.934369       636.330523   \n",
            "363       748.880615       754.091877       734.934369       636.330523   \n",
            "386       748.880615       754.091877       734.934369       636.330523   \n",
            "404       748.880615       754.091877       734.934369       636.330523   \n",
            "417       748.880615       754.091877       734.934369       636.330523   \n",
            "426       748.880615       754.091877       734.934369       636.330523   \n",
            "427       748.880615       754.091877       734.934369       636.330523   \n",
            "428       748.880615       754.091877       734.934369       636.330523   \n",
            "448       748.880615       754.091877       734.934369       636.330523   \n",
            "450       748.880615       754.091877       734.934369       636.330523   \n",
            "\n",
            "     NWP_(£m)_2020YE  SCR_(£m)_2016YE  SCR_(£m)_2017YE  SCR_(£m)_2018YE  \\\n",
            "3       49204.470000     15975.650000     15367.890000       10797.1200   \n",
            "5        5969.710000      5127.370000      5252.810000        5460.8000   \n",
            "6        6486.660000      3352.500000      2155.200000        4246.2400   \n",
            "16          0.000000       173.810000       153.050000         136.4900   \n",
            "21         28.470000       119.980000       160.330000         140.4100   \n",
            "24       9765.610000        11.950000        10.590000           2.2000   \n",
            "25      16395.670000      4282.790000      3852.000000        1061.5700   \n",
            "29       3396.240000      2801.420000      3545.730000        3476.4300   \n",
            "33       6105.500000      8785.960000      3011.610000        5924.1600   \n",
            "50       3789.880000         9.380000        12.510000           8.7300   \n",
            "51          0.770000         6.020000         6.440000           0.5500   \n",
            "72       4073.350000      2801.480000      2877.730000         114.3500   \n",
            "79       3198.450000         8.100000        93.240000         198.8300   \n",
            "103      6174.580000         2.620000         0.010000           3.0900   \n",
            "104      2612.550000     18258.890000     17563.270000        4194.6600   \n",
            "111         0.000000         0.000000         0.000000           0.0000   \n",
            "126         0.000000         0.000000         0.000000           0.0000   \n",
            "150      5554.250000       777.620000      1636.950000         335.4600   \n",
            "157       432.780000        61.920000       326.510000         387.7500   \n",
            "165         3.590000        12.300000        11.820000           5.5400   \n",
            "198     13133.460000      1758.630000      4068.120000         565.3300   \n",
            "209     60699.950000       381.750000       236.780000         270.2400   \n",
            "227         8.380000         5.780000         9.710000           3.6000   \n",
            "233      1569.100000      2540.580000      3375.310000        2125.7300   \n",
            "246       191.590000        76.520000        56.920000          18.7300   \n",
            "275      3073.770000       131.030000       310.560000          89.4500   \n",
            "279         1.730000         6.930000       192.440000         196.3300   \n",
            "282        12.280000        26.360000        50.980000          40.0000   \n",
            "283        44.750000       461.060000       475.070000         370.3100   \n",
            "285        68.040000        34.410000       164.580000         103.8200   \n",
            "300      4643.040000       868.370000       824.940000         330.9500   \n",
            "310     14566.280000      2394.750000     12441.320000        6189.5900   \n",
            "316      3479.290000        57.940000       221.530000          99.3900   \n",
            "336       784.543354       361.336646       413.189969         284.7956   \n",
            "340       784.543354       361.336646       413.189969         284.7956   \n",
            "346       784.543354       361.336646       413.189969         284.7956   \n",
            "361       784.543354       361.336646       413.189969         284.7956   \n",
            "363       784.543354       361.336646       413.189969         284.7956   \n",
            "386       784.543354       361.336646       413.189969         284.7956   \n",
            "404       784.543354       361.336646       413.189969         284.7956   \n",
            "417       784.543354       361.336646       413.189969         284.7956   \n",
            "426       784.543354       361.336646       413.189969         284.7956   \n",
            "427       784.543354       361.336646       413.189969         284.7956   \n",
            "428       784.543354       361.336646       413.189969         284.7956   \n",
            "448       784.543354       361.336646       413.189969         284.7956   \n",
            "450       784.543354       361.336646       413.189969         284.7956   \n",
            "\n",
            "     SCR_(£m)_2019YE  SCR_(£m)_2020YE  ...  Gross_expense_ratio_2020YE  \\\n",
            "3       22788.360000     16090.310000  ...                   -0.162883   \n",
            "5        4581.920000      3102.990000  ...                    0.065710   \n",
            "6        7597.760000      3105.990000  ...                    0.000000   \n",
            "16         12.370000         0.000000  ...                    0.178456   \n",
            "21         62.470000       127.680000  ...                    0.616258   \n",
            "24          1.770000         0.230000  ...                    0.000000   \n",
            "25         98.030000      2960.780000  ...                    0.411128   \n",
            "29       1392.060000      3729.850000  ...                    0.000000   \n",
            "33       3884.820000      2971.060000  ...                    0.030353   \n",
            "50          3.950000         4.480000  ...                    0.000000   \n",
            "51          3.720000         4.500000  ...                    0.151132   \n",
            "72       1482.490000      4919.310000  ...                    0.491820   \n",
            "79        249.460000       256.340000  ...                    0.081815   \n",
            "103        12.810000         3.680000  ...                    0.000000   \n",
            "104     16716.950000     18335.570000  ...                    0.311819   \n",
            "111         0.000000         0.000000  ...                    0.358650   \n",
            "126         0.000000         0.000000  ...                    0.000000   \n",
            "150      1468.620000       478.900000  ...                    0.475717   \n",
            "157        98.360000       382.880000  ...                    0.382488   \n",
            "165        15.710000        13.170000  ...                  317.977514   \n",
            "198      1934.740000      2918.790000  ...                    0.035470   \n",
            "209       345.810000        11.640000  ...                    0.216404   \n",
            "227         9.700000        30.350000  ...                    0.000000   \n",
            "233      2635.940000       685.180000  ...                    0.350771   \n",
            "246         1.020000        12.820000  ...                    0.491021   \n",
            "275       150.300000       263.170000  ...                    0.000000   \n",
            "279       141.510000       184.660000  ...                    0.222429   \n",
            "282         9.210000         9.040000  ...                    0.707645   \n",
            "283       162.310000       211.710000  ...                  826.270104   \n",
            "285        32.730000        13.950000  ...                    0.213798   \n",
            "300      1427.310000      1894.030000  ...                    0.000000   \n",
            "310       641.420000     16323.540000  ...                    0.312233   \n",
            "316       131.900000        26.390000  ...                    0.060318   \n",
            "336       324.383446       349.470308  ...                    0.615488   \n",
            "340       324.383446       349.470308  ...                    0.450044   \n",
            "346       324.383446       349.470308  ...                    0.108304   \n",
            "361       324.383446       349.470308  ...                    0.074776   \n",
            "363       324.383446       349.470308  ...                   -0.564481   \n",
            "386       324.383446       349.470308  ...                    0.391476   \n",
            "404       324.383446       349.470308  ...                    0.356391   \n",
            "417       324.383446       349.470308  ...                   33.042060   \n",
            "426       324.383446       349.470308  ...                    0.287174   \n",
            "427       324.383446       349.470308  ...                    0.422383   \n",
            "428       324.383446       349.470308  ...                    0.236969   \n",
            "448       324.383446       349.470308  ...                  144.773733   \n",
            "450       324.383446       349.470308  ...                    0.534641   \n",
            "\n",
            "     Gross_combined_ratio_2016YE  Gross_combined_ratio_2017YE  \\\n",
            "3                       1.047234                     0.476384   \n",
            "5                       0.650369                     0.904271   \n",
            "6                       0.000000                     0.000000   \n",
            "16                      1.090493                     1.576529   \n",
            "21                      1.920294                     0.392256   \n",
            "24                      0.874980                     1.080769   \n",
            "25                      1.639587                     0.733022   \n",
            "29                      0.342532                    22.799331   \n",
            "33                      0.000000                     0.930897   \n",
            "50                     -0.536358                   -50.991523   \n",
            "51                      0.342754                     1.466277   \n",
            "72                      0.000000                     0.000000   \n",
            "79                      1.035089                     0.786135   \n",
            "103                     0.273447                     0.000000   \n",
            "104                     1.444053                     0.340131   \n",
            "111                     1.332498                     1.332567   \n",
            "126                     0.000000                     0.000000   \n",
            "150                    -0.496272                    -0.276755   \n",
            "157                     1.155162                     0.111875   \n",
            "165                     5.018738                    -2.876880   \n",
            "198                     2.702875                     2.724142   \n",
            "209                     1.607224                     1.548505   \n",
            "227                     0.000000                     0.000000   \n",
            "233                     0.095618                     0.124333   \n",
            "246                     0.235978                     0.509785   \n",
            "275                     0.000000                     0.000000   \n",
            "279                     0.860740                     1.412329   \n",
            "282                     1.430371                     0.199939   \n",
            "283                     0.000000                     0.000000   \n",
            "285                     1.512824                     2.168064   \n",
            "300                     0.000000                     0.000000   \n",
            "310                     0.000000                     0.000000   \n",
            "316                     0.262281                     0.077431   \n",
            "336                     0.610880                     0.744131   \n",
            "340                     1.056494                     1.526849   \n",
            "346                     1.212818                     0.752156   \n",
            "361                     1.327849                     0.526335   \n",
            "363                     0.000000                    30.085525   \n",
            "386                     0.282863                     2.375847   \n",
            "404                     1.020723                     2.051542   \n",
            "417                     0.000000                     0.000000   \n",
            "426                     0.972046                     1.608006   \n",
            "427                     0.426464                     1.585674   \n",
            "428                     1.651647                     0.552478   \n",
            "448                   297.648235                     2.471417   \n",
            "450                     0.057708                     0.381307   \n",
            "\n",
            "     Gross_combined_ratio_2018YE  Gross_combined_ratio_2019YE  \\\n",
            "3                       3.307379                     1.247403   \n",
            "5                       0.147146                     0.351034   \n",
            "6                       0.000000                     0.000000   \n",
            "16                      1.575259                     0.596478   \n",
            "21                      0.840033                     0.116934   \n",
            "24                      1.187106                     0.000000   \n",
            "25                      0.253679                     0.143545   \n",
            "29                     11.911513                     0.000000   \n",
            "33                      1.983448                     0.327643   \n",
            "50                      0.000000                     0.000000   \n",
            "51                      1.949127                     0.142145   \n",
            "72                      0.846490                     0.658037   \n",
            "79                      1.839281                     1.202698   \n",
            "103                     0.000000                     0.000000   \n",
            "104                     1.647887                     0.443959   \n",
            "111                     1.354512                     1.456554   \n",
            "126                     0.000000                     0.000000   \n",
            "150                    -6.226915                    -0.805354   \n",
            "157                     1.241711                     1.251848   \n",
            "165                    30.144741                  -661.224952   \n",
            "198                     0.045757                     1.443435   \n",
            "209                     1.759389                     0.282968   \n",
            "227                     0.000000                     0.000000   \n",
            "233                     1.494161                     0.338396   \n",
            "246                     0.020226                     0.275845   \n",
            "275                     0.000000                     0.000000   \n",
            "279                     0.510554                     0.494628   \n",
            "282                     1.446946                     1.515970   \n",
            "283                     0.000000                   525.757249   \n",
            "285                     0.432819                     1.686660   \n",
            "300                     0.000000                     0.000000   \n",
            "310                     1.115284                     0.735252   \n",
            "316                     1.742934                     0.519823   \n",
            "336                     0.220073                     0.087789   \n",
            "340                     0.266340                     1.877954   \n",
            "346                     1.727339                     1.551182   \n",
            "361                     0.961997                     0.832311   \n",
            "363                     0.121134                   -60.067422   \n",
            "386                     0.603912                     2.201869   \n",
            "404                     0.839176                     1.454100   \n",
            "417                   -11.991804                   -48.826267   \n",
            "426                     1.681874                     1.673949   \n",
            "427                     1.529102                     1.576503   \n",
            "428                     0.335769                     0.332142   \n",
            "448                     9.965715                -14064.481350   \n",
            "450                     1.089470                     1.413802   \n",
            "\n",
            "     Gross_combined_ratio_2020YE  Outlier    NWP_Change  Cluster  Anomaly  \n",
            "3                      -2.303093      0.0  34484.800000        2       -1  \n",
            "5                       0.687860      0.0   5916.490000        0       -1  \n",
            "6                       0.000000      0.0 -11745.720000        0       -1  \n",
            "16                      1.129964      0.0  -1256.930000        0       -1  \n",
            "21                      0.105808      0.0    -25.050000        0       -1  \n",
            "24                      0.000000      0.0   2630.960000        0       -1  \n",
            "25                      1.031633      0.0   9711.710000        0       -1  \n",
            "29                      0.000000      0.0  -2728.360000        0       -1  \n",
            "33                      2.187807      0.0   6289.590000        0       -1  \n",
            "50                      0.000000      0.0  -1865.280000        0       -1  \n",
            "51                      1.158196      0.0     -0.280000        0       -1  \n",
            "72                      1.773573      0.0  -7678.710000        0       -1  \n",
            "79                      1.490072      0.0   2273.540000        0       -1  \n",
            "103                     0.000000      0.0   4476.960000        0       -1  \n",
            "104                     0.983198      0.0 -18723.410000        0       -1  \n",
            "111                     1.103994      0.0      0.000000        0       -1  \n",
            "126                     0.000000      0.0      0.000000        1       -1  \n",
            "150                     0.019297      0.0  -2416.290000        0       -1  \n",
            "157                     1.470458      0.0    266.510000        0       -1  \n",
            "165                   747.847327      1.0      2.690000        0       -1  \n",
            "198                     0.944690      0.0   9738.430000        0       -1  \n",
            "209                     0.975301      0.0  35226.640000        2       -1  \n",
            "227                     0.000000      1.0      4.640000        0       -1  \n",
            "233                     1.671975      0.0  -2429.880000        0       -1  \n",
            "246                     0.728247      0.0  -6320.640000        0       -1  \n",
            "275                     0.000000      0.0   1893.780000        0       -1  \n",
            "279                     0.975439      0.0    -95.640000        0       -1  \n",
            "282                     1.497290      0.0      9.560000        0       -1  \n",
            "283                  1383.197079      1.0    -82.870000        0       -1  \n",
            "285                     1.287709      0.0     66.960000        0       -1  \n",
            "300                     0.000000      0.0   2680.060000        0       -1  \n",
            "310                     0.459989      0.0  14185.080000        0       -1  \n",
            "316                     0.512366      0.0   -972.450000        0       -1  \n",
            "336                     0.653478      0.0    148.212831        0       -1  \n",
            "340                     0.847534      0.0    148.212831        0       -1  \n",
            "346                     2.112201      0.0    148.212831        0       -1  \n",
            "361                     1.356902      0.0    148.212831        0       -1  \n",
            "363                     3.078940      0.0    148.212831        0       -1  \n",
            "386                     1.865218      0.0    148.212831        0       -1  \n",
            "404                     1.688183      0.0    148.212831        0       -1  \n",
            "417                    -2.299306      0.0    148.212831        0       -1  \n",
            "426                     1.377742      0.0    148.212831        0       -1  \n",
            "427                     0.538895      0.0    148.212831        0       -1  \n",
            "428                     1.104646      0.0    148.212831        0       -1  \n",
            "448                -12033.441220      0.0    148.212831        0       -1  \n",
            "450                     0.272613      0.0    148.212831        0       -1  \n",
            "\n",
            "[46 rows x 90 columns]\n"
          ]
        }
      ]
    },
    {
      "cell_type": "markdown",
      "source": [
        "The \"Anomalies detected\" table lists firms that an Isolation Forest algorithm has flagged as anomalies based on the provided financial data. These anomalies are instances that are considered as outliers within the data — that is, they deviate significantly from the norm.\n",
        "\n",
        "Each row represents a different firm and the columns provide various financial metrics for each year from 2016 to 2020. The algorithm likely considered a range of these features to determine which points are outliers.\n",
        "\n",
        "Key points from this output include:\n",
        "\n",
        "- **NWP (Net Written Premium)**: The values under `NWP_(£m)_2020YE` show the Net Written Premium for each firm for the year 2020. This is a critical financial metric that can reflect the scale of the firms' operations.\n",
        "  \n",
        "- **SCR (Solvency Capital Requirement)**: The columns starting with `SCR_(£m)` for each year indicate the capital that each firm is required to hold to ensure solvency, as dictated by regulatory requirements. The changes in this metric over the years can indicate the financial health and stability of the firm.\n",
        "\n",
        "- **Gross Combined Ratio**: The `Gross_combined_ratio` columns for each year represent the combined ratio, which is a measure of profitability in the insurance industry. Ratios above 100% suggest that a firm is paying out more in claims and expenses than it is receiving from premiums, which could indicate a loss.\n",
        "\n",
        "- **Cluster**: The 'Cluster' column shows which cluster (from a K-Means clustering algorithm) each firm has been assigned to based on their financial data. This might reflect underlying patterns or similarities between firms' financial profiles.\n",
        "\n",
        "- **Anomaly**: The 'Anomaly' column indicates whether the Isolation Forest algorithm has identified each firm as an anomaly (`-1`) or not (`1`). Firms labeled with `-1` are considered outliers, which means they have unusual financial patterns compared to the rest of the data and might warrant further investigation.\n",
        "\n",
        "When interpreting the anomalies, consider:\n",
        "\n",
        "- **Firms Flagged**: The table indicates that several firms have been flagged across different clusters. Notably, firms like `Firm 3` with a significant change in NWP and `Firm 209` with extremely high GWP are considered anomalies.\n",
        "\n",
        "- **Potential Issues**: These anomalies may have unusual financial situations, such as rapid growth or decline, high ratios that suggest potential underwriting losses, or other financial stress indicators.\n",
        "\n",
        "- **Next Steps**: Analysts should further investigate the reasons behind these anomalies. For instance, they might be due to data entry errors, exceptional one-off events, or underlying financial issues that require management's attention.\n",
        "\n",
        "It's also worth noting that there are some data quality issues indicated by the presence of negative numbers for financial metrics, which are typically non-negative. This could be due to data entry errors, incorrect calculations, or other data processing issues that need to be addressed."
      ],
      "metadata": {
        "id": "WW_xGG5VPGYQ"
      }
    },
    {
      "cell_type": "code",
      "source": [
        "# Save the results to a CSV file\n",
        "data.to_csv('analysis_results.csv', index=False)\n"
      ],
      "metadata": {
        "id": "3CIQZ9muLWfl"
      },
      "execution_count": 518,
      "outputs": []
    },
    {
      "cell_type": "code",
      "source": [
        "# Save the DataFrame to a CSV file in the Colab environment\n",
        "data.to_csv('analysis_results.csv', index=False)\n",
        "\n",
        "# Use the Colab file download utility to download it to your local computer\n",
        "from google.colab import files\n",
        "files.download('analysis_results.csv')\n"
      ],
      "metadata": {
        "id": "aeAVVBIgLgjc",
        "colab": {
          "base_uri": "https://localhost:8080/",
          "height": 17
        },
        "outputId": "984bebe2-97c0-419e-f9c3-b3ebfc0760c1"
      },
      "execution_count": 521,
      "outputs": [
        {
          "output_type": "display_data",
          "data": {
            "text/plain": [
              "<IPython.core.display.Javascript object>"
            ],
            "application/javascript": [
              "\n",
              "    async function download(id, filename, size) {\n",
              "      if (!google.colab.kernel.accessAllowed) {\n",
              "        return;\n",
              "      }\n",
              "      const div = document.createElement('div');\n",
              "      const label = document.createElement('label');\n",
              "      label.textContent = `Downloading \"${filename}\": `;\n",
              "      div.appendChild(label);\n",
              "      const progress = document.createElement('progress');\n",
              "      progress.max = size;\n",
              "      div.appendChild(progress);\n",
              "      document.body.appendChild(div);\n",
              "\n",
              "      const buffers = [];\n",
              "      let downloaded = 0;\n",
              "\n",
              "      const channel = await google.colab.kernel.comms.open(id);\n",
              "      // Send a message to notify the kernel that we're ready.\n",
              "      channel.send({})\n",
              "\n",
              "      for await (const message of channel.messages) {\n",
              "        // Send a message to notify the kernel that we're ready.\n",
              "        channel.send({})\n",
              "        if (message.buffers) {\n",
              "          for (const buffer of message.buffers) {\n",
              "            buffers.push(buffer);\n",
              "            downloaded += buffer.byteLength;\n",
              "            progress.value = downloaded;\n",
              "          }\n",
              "        }\n",
              "      }\n",
              "      const blob = new Blob(buffers, {type: 'application/binary'});\n",
              "      const a = document.createElement('a');\n",
              "      a.href = window.URL.createObjectURL(blob);\n",
              "      a.download = filename;\n",
              "      div.appendChild(a);\n",
              "      a.click();\n",
              "      div.remove();\n",
              "    }\n",
              "  "
            ]
          },
          "metadata": {}
        },
        {
          "output_type": "display_data",
          "data": {
            "text/plain": [
              "<IPython.core.display.Javascript object>"
            ],
            "application/javascript": [
              "download(\"download_b1c0ca38-2cdf-4382-ab64-c98e6926df73\", \"analysis_results.csv\", 359503)"
            ]
          },
          "metadata": {}
        }
      ]
    },
    {
      "cell_type": "code",
      "source": [],
      "metadata": {
        "id": "6YX90l9yLgmK"
      },
      "execution_count": null,
      "outputs": []
    },
    {
      "cell_type": "code",
      "source": [],
      "metadata": {
        "id": "vmBe1t4rLgqU"
      },
      "execution_count": null,
      "outputs": []
    },
    {
      "cell_type": "code",
      "source": [],
      "metadata": {
        "id": "_NzV-QNmJtGo"
      },
      "execution_count": null,
      "outputs": []
    },
    {
      "cell_type": "code",
      "source": [],
      "metadata": {
        "id": "PSEOmT1_JtJg"
      },
      "execution_count": null,
      "outputs": []
    },
    {
      "cell_type": "code",
      "source": [],
      "metadata": {
        "id": "bVCKiqDYJtMf"
      },
      "execution_count": null,
      "outputs": []
    }
  ]
}